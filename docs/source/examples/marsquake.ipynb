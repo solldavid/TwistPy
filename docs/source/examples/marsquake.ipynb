{
  "cells": [
    {
      "cell_type": "code",
      "execution_count": null,
      "metadata": {
        "collapsed": false
      },
      "outputs": [],
      "source": [
        "%matplotlib inline"
      ]
    },
    {
      "cell_type": "markdown",
      "metadata": {},
      "source": [
        "\n# 3-C Polarization analysis and filtering: Real data example using a marsquake recorded by InSight\nThis example shows the application of TwistPy's polarization analysis and filtering tools to a marsquake that was\nrecorded by NASA's InSight Mars lander on mission sol 173. Here, we  extract time- and frequency-dependent\npolarization attributes of the three-component particle motion such as the ellipticity, the degree-of-polarization and\nthe directionality. We then devise a polarization filter to enhance certain phases in the data (in this case, we try\nto enhance S-phases). The filtering that is demonstrated hereafter has, for example, been used to detect seismic phases\nthat bounce off the Martian core (see St\u00e4hler et al., 2021, *Seismic detection of the martian core*, Science,\nhttps://www.science.org/doi/10.1126/science.abi7730).\n"
      ]
    },
    {
      "cell_type": "code",
      "execution_count": null,
      "metadata": {
        "collapsed": false
      },
      "outputs": [],
      "source": [
        "import matplotlib.pyplot as plt\nimport numpy as np\nfrom obspy.core import read\n\nfrom twistpy.polarization import TimeFrequencyAnalysis3C\nfrom twistpy.utils import stransform\n\n# sphinx_gallery_thumbnail_number = 1"
      ]
    },
    {
      "cell_type": "markdown",
      "metadata": {},
      "source": [
        "We start by reading in the data, which has already been corrected for the instrument response and rotated to\na ZNE configuration.\n\n"
      ]
    },
    {
      "cell_type": "code",
      "execution_count": null,
      "metadata": {
        "collapsed": false
      },
      "outputs": [],
      "source": [
        "data = read(\"../example_data/S0173a.mseed\")"
      ]
    },
    {
      "cell_type": "markdown",
      "metadata": {},
      "source": [
        "Now we specify the parameters of the time-frequency window that we use for polarization analysis. The spectral\nmatrices for polarization analysis will be smoothed in a 2D  window extending over the number of periods specified\nby 'number_of_periods' and over the frequency range (in Hz) specified by 'frequency'. Here, we\nspecify a window that is frequency-dependent and extends over a single period in time (1/frequency). In the\nfrequency-direction the window extends over 50 mHz.\n\n"
      ]
    },
    {
      "cell_type": "code",
      "execution_count": null,
      "metadata": {
        "collapsed": false
      },
      "outputs": [],
      "source": [
        "window = {\"number_of_periods\": 5, \"frequency_extent\": 0.05}"
      ]
    },
    {
      "cell_type": "markdown",
      "metadata": {},
      "source": [
        "Now we can set up the polarizaiton analysis interface. To compute the S-transform, we use the default value of k=1.\n(see the example on the S-transform for more information on this parameter).\n\n"
      ]
    },
    {
      "cell_type": "code",
      "execution_count": null,
      "metadata": {
        "collapsed": false
      },
      "outputs": [],
      "source": [
        "analysis = TimeFrequencyAnalysis3C(\n    N=data[1], E=data[2], Z=data[0], window=window, timeaxis=\"utc\", k=1\n)"
      ]
    },
    {
      "cell_type": "markdown",
      "metadata": {},
      "source": [
        "To estimate polarization attributes, we use:\n\n"
      ]
    },
    {
      "cell_type": "code",
      "execution_count": null,
      "metadata": {
        "collapsed": false
      },
      "outputs": [],
      "source": [
        "analysis.polarization_analysis()"
      ]
    },
    {
      "cell_type": "markdown",
      "metadata": {},
      "source": [
        "To plot the result, we can make use of the plot_polarization_analysis() method. We want to plot the inclination and\nazimuth of the major semi-axis of the polarization ellipse and only plot the polarization attributes at time frequency\npixels where the signal strength in all three-components exceeds 5 percent of the maximum value:\n\n"
      ]
    },
    {
      "cell_type": "code",
      "execution_count": null,
      "metadata": {
        "collapsed": false
      },
      "outputs": [],
      "source": [
        "analysis.plot(major_semi_axis=True, clip=0.05, show=False)"
      ]
    },
    {
      "cell_type": "markdown",
      "metadata": {},
      "source": [
        "Let us now devise a polarization filter that enhances the S-waves in the signal. For S-waves at close-to-\nvertical incidence, we would expect the ground to vibrate predominantly in the horizontal direction, we therefore\ndevise a filter that suppresses vertically polarized signals (incidence angle measured from vertical smaller than 60\ndegrees). Additionally, we only want to keep the part of the signal that is rectilinearly polarized (i.e., the body\nwaves with an ellipticity smaller than 0.4). To automatically generate a plot of the filtered data and the filtered\npolarization attributes by setting plot_filtered_attributes=True.\n\n"
      ]
    },
    {
      "cell_type": "code",
      "execution_count": null,
      "metadata": {
        "collapsed": false
      },
      "outputs": [],
      "source": [
        "data_filtered = analysis.filter(\n    elli=[0, 0.4], inc1=[60, 90], plot_filtered_attributes=True, clip=0.0\n)"
      ]
    },
    {
      "cell_type": "markdown",
      "metadata": {},
      "source": [
        "Note that P-wave energy is now widely suppressed, while the S-waves are retained. However, there seems to be a\nstrong horizontally polarized pulse just on top of the P-wave arrival. This pulse corresponds to a data glitch and is\nnot related to the marsquake. Another glitch can be observed at 02:38 UTC. If you look closely, you can see that a\nhorizontally and rectilinearly polarized phase seems to arrive at about 02:31 UTC (about 500 seconds after the\nP-wave arrival). This phase is interpreted to be an ScS core phase, bouncing off the martian core-mantle boundary\n(St\u00e4hler et al., 2021, Seismic detection of the martian core, Science). Sometimes, it is helpful to plot the\ntime-frequency representation (S-transform) of the signal for interpretation. This can be done in the following way:\n\n"
      ]
    },
    {
      "cell_type": "code",
      "execution_count": null,
      "metadata": {
        "collapsed": false
      },
      "outputs": [],
      "source": [
        "# Compute S-transform of North component for plotting\nN_stran, f = stransform(data[1].data, k=1)\nN_stran_filtered, _ = stransform(\n    data_filtered[1].data, k=1\n)  # S-transform of filtered data for comparison\nplt.style.use(\"ggplot\")\n\n# Plot the result\nfig, ax = plt.subplots(2, 2, sharex=True)\nax[0, 0].plot(analysis.t_pol, data[1].data, \"k\")\nax[0, 0].set_title(\"N-Component Input Data\")\nax[0, 0].set_ylim([-6e-9, 6e-9])\nax[0, 0].xaxis_date()\nax[1, 0].imshow(\n    np.abs(N_stran),\n    origin=\"lower\",\n    aspect=\"auto\",\n    extent=[\n        analysis.t_pol[0],\n        analysis.t_pol[-1],\n        analysis.f_pol[0],\n        analysis.f_pol[-1],\n    ],\n)\nax[1, 0].set_xlabel(\"Time (UTC)\")\nax[1, 0].set_title(\"S-transform Input Data\")\nax[1, 0].xaxis_date()\n\nax[0, 1].plot(analysis.t_pol, data_filtered[1].data, \"k\")\nax[0, 1].set_title(\"N-Component Filtered Data\")\nax[0, 1].set_ylim([-6e-9, 6e-9])\nax[0, 1].xaxis_date()\n\nax[1, 1].imshow(\n    np.abs(N_stran_filtered),\n    origin=\"lower\",\n    aspect=\"auto\",\n    extent=[\n        analysis.t_pol[1],\n        analysis.t_pol[-1],\n        analysis.f_pol[0],\n        analysis.f_pol[-1],\n    ],\n)\nax[1, 1].set_xlabel(\"Time (UTC)\")\nax[1, 1].set_title(\"S-transform Filtered Data\")\nax[1, 1].xaxis_date()\nplt.show()"
      ]
    }
  ],
  "metadata": {
    "kernelspec": {
      "display_name": "Python 3",
      "language": "python",
      "name": "python3"
    },
    "language_info": {
      "codemirror_mode": {
        "name": "ipython",
        "version": 3
      },
      "file_extension": ".py",
      "mimetype": "text/x-python",
      "name": "python",
      "nbconvert_exporter": "python",
      "pygments_lexer": "ipython3",
      "version": "3.7.12"
    }
  },
  "nbformat": 4,
  "nbformat_minor": 0
}