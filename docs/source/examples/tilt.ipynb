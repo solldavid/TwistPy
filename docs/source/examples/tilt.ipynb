{
  "cells": [
    {
      "cell_type": "code",
      "execution_count": null,
      "metadata": {
        "collapsed": false
      },
      "outputs": [],
      "source": [
        "%matplotlib inline"
      ]
    },
    {
      "cell_type": "markdown",
      "metadata": {},
      "source": [
        "# Tilt correction\n\nThis script implements a simple example for dynamic tilt correction. It\nreproduces the tilt table experiment from Bernauer et al (2020) based on the\nmethod by Crawford and Webb (2000).\n\nThe example demonstrates the different correction variants provided by :func:`twistpy.tilt.correction.remove_tilt`.\n\nThe example data required by this script is included in the TwistPy example_data\ncollection.\n"
      ]
    },
    {
      "cell_type": "code",
      "execution_count": null,
      "metadata": {
        "collapsed": false
      },
      "outputs": [],
      "source": [
        "import os\n\nimport numpy as np\nfrom matplotlib import pyplot as plt\nfrom matplotlib import rc\nfrom matplotlib.transforms import Bbox, TransformedBbox, blended_transform_factory\nfrom mpl_toolkits.axes_grid1.inset_locator import (\n    BboxPatch,\n    BboxConnector,\n    BboxConnectorPatch,\n)\nfrom obspy import Stream, Trace\n\nfrom twistpy.tilt.correction import remove_tilt\nfrom twistpy.tilt.util import (\n    get_data,\n    trigger,\n    calc_residual_disp,\n    get_angle,\n    theo_resid_disp,\n    calc_height_of_mass,\n)"
      ]
    },
    {
      "cell_type": "markdown",
      "metadata": {},
      "source": [
        "This script implements a simple example for dynamic tilt correction. It\nreproduces the # tilt table experiment from Bernauer et al. 2020 (SRL).\n\n"
      ]
    },
    {
      "cell_type": "code",
      "execution_count": null,
      "metadata": {
        "collapsed": false
      },
      "outputs": [],
      "source": [
        "data_dir = \"../example_data/tilt_correction\""
      ]
    },
    {
      "cell_type": "markdown",
      "metadata": {},
      "source": [
        "This method is needed for the matplotlib zoom effect\n\n"
      ]
    },
    {
      "cell_type": "code",
      "execution_count": null,
      "metadata": {
        "collapsed": false
      },
      "outputs": [],
      "source": [
        "def connect_bbox(\n    bbox1, bbox2, loc1a, loc2a, loc1b, loc2b, prop_lines, prop_patches=None\n):\n    if prop_patches is None:\n        prop_patches = {\n            **prop_lines,\n            \"alpha\": prop_lines.get(\"alpha\", 1) * 0.0,\n        }\n\n    c1 = BboxConnector(bbox1, bbox2, loc1=loc1a, loc2=loc2a, **prop_lines)\n    c1.set_clip_on(False)\n    c2 = BboxConnector(bbox1, bbox2, loc1=loc1b, loc2=loc2b, **prop_lines)\n    c2.set_clip_on(False)\n\n    bbox_patch1 = BboxPatch(bbox1, **prop_patches)\n    bbox_patch2 = BboxPatch(bbox2, **prop_patches)\n\n    p = BboxConnectorPatch(\n        bbox1, bbox2, loc1a=loc1a, loc2a=loc2a, loc1b=loc1b, loc2b=loc2b, **prop_patches\n    )\n    p.set_clip_on(False)\n\n    return c1, c2, bbox_patch1, bbox_patch2, p"
      ]
    },
    {
      "cell_type": "markdown",
      "metadata": {},
      "source": [
        "This method is needed for the matplotlib zoom effect\n\n"
      ]
    },
    {
      "cell_type": "code",
      "execution_count": null,
      "metadata": {
        "collapsed": false
      },
      "outputs": [],
      "source": [
        "def zoom_effect01(ax1, ax2, xmin, xmax, **kwargs):\n    \"\"\"\n    Connect *ax1* and *ax2*. The *xmin*-to-*xmax* range in both axes will\n    be marked.\n    Parameters\n    ----------\n    ax1\n        The main axes.\n    ax2\n        The zoomed axes.\n    xmin, xmax\n        The limits of the colored area in both plot axes.\n    **kwargs\n        Arguments passed to the patch constructor.\n    \"\"\"\n\n    trans1 = blended_transform_factory(ax1.transData, ax1.transAxes)\n    trans2 = blended_transform_factory(ax2.transData, ax2.transAxes)\n\n    bbox = Bbox.from_extents(xmin, 0, xmax, 1)\n\n    mybbox1 = TransformedBbox(bbox, trans1)\n    mybbox2 = TransformedBbox(bbox, trans2)\n\n    prop_patches = {**kwargs, \"ec\": \"none\", \"alpha\": 0.0}\n\n    c1, c2, bbox_patch1, bbox_patch2, p = connect_bbox(\n        mybbox1,\n        mybbox2,\n        loc1a=3,\n        loc2a=2,\n        loc1b=4,\n        loc2b=1,\n        prop_lines=kwargs,\n        prop_patches=prop_patches,\n    )\n\n    ax1.add_patch(bbox_patch1)\n    ax2.add_patch(bbox_patch2)\n    ax2.add_patch(c1)\n    ax2.add_patch(c2)\n    ax2.add_patch(p)\n\n    return c1, c2, bbox_patch1, bbox_patch2, p"
      ]
    },
    {
      "cell_type": "markdown",
      "metadata": {},
      "source": [
        "This method is needed for the matplotlib zoom effect\n\n"
      ]
    },
    {
      "cell_type": "code",
      "execution_count": null,
      "metadata": {
        "collapsed": false
      },
      "outputs": [],
      "source": [
        "def zoom_effect02(ax1, ax2, **kwargs):\n    \"\"\"\n    ax1 : the main axes\n    ax1 : the zoomed axes\n    Similar to zoom_effect01.  The xmin & xmax will be taken from the\n    ax1.viewLim.\n    \"\"\"\n\n    tt = ax1.transScale + (ax1.transLimits + ax2.transAxes)\n    trans = blended_transform_factory(ax2.transData, tt)\n\n    mybbox1 = ax1.bbox\n    mybbox2 = TransformedBbox(ax1.viewLim, trans)\n\n    prop_patches = {**kwargs, \"ec\": \"none\", \"alpha\": 0.2}\n\n    c1, c2, bbox_patch1, bbox_patch2, p = connect_bbox(\n        mybbox1,\n        mybbox2,\n        loc1a=2,\n        loc2a=3,\n        loc1b=1,\n        loc2b=4,\n        prop_lines=kwargs,\n        prop_patches=prop_patches,\n    )\n\n    ax1.add_patch(bbox_patch1)\n    ax2.add_patch(bbox_patch2)\n    ax2.add_patch(c1)\n    ax2.add_patch(c2)\n    ax2.add_patch(p)\n\n    return c1, c2, bbox_patch1, bbox_patch2, p"
      ]
    },
    {
      "cell_type": "markdown",
      "metadata": {},
      "source": [
        "TEST     - tilt table -        #\n         - high gain, 1/6 -    #\n         - 166.7mum -          #\n         - 21 steps -          #\nGet raw data from\n\n"
      ]
    },
    {
      "cell_type": "code",
      "execution_count": null,
      "metadata": {
        "collapsed": false
      },
      "outputs": [],
      "source": [
        "stream1 = os.path.join(data_dir, \"XX.TC120..HH*.D.2018.343\")\nstream2 = os.path.join(data_dir, \"XX.BS1..HJ*.D.2018.343\")"
      ]
    },
    {
      "cell_type": "markdown",
      "metadata": {},
      "source": [
        "at the time\n\n"
      ]
    },
    {
      "cell_type": "code",
      "execution_count": null,
      "metadata": {
        "collapsed": false
      },
      "outputs": [],
      "source": [
        "utctime = \"2018-12-09T19:48:48.6\""
      ]
    },
    {
      "cell_type": "markdown",
      "metadata": {},
      "source": [
        "how many seconds of data do you want to read in?\n\n"
      ]
    },
    {
      "cell_type": "code",
      "execution_count": null,
      "metadata": {
        "collapsed": false
      },
      "outputs": [],
      "source": [
        "duration = 120"
      ]
    },
    {
      "cell_type": "markdown",
      "metadata": {},
      "source": [
        "Define the seismometer and rotational sensor stream identifiers\n\n"
      ]
    },
    {
      "cell_type": "code",
      "execution_count": null,
      "metadata": {
        "collapsed": false
      },
      "outputs": [],
      "source": [
        "correct_channel = \"HH*\"\ninput_channel = \"HJ*\""
      ]
    },
    {
      "cell_type": "markdown",
      "metadata": {},
      "source": [
        "Set some trigger parameters and start to search for steps from second\n\n"
      ]
    },
    {
      "cell_type": "code",
      "execution_count": null,
      "metadata": {
        "collapsed": false
      },
      "outputs": [],
      "source": [
        "S = 18.0\n# no steps after second\nE = 91.0"
      ]
    },
    {
      "cell_type": "markdown",
      "metadata": {},
      "source": [
        "correct the trigger onset by a constant offset, which was determined visually\n\n"
      ]
    },
    {
      "cell_type": "code",
      "execution_count": null,
      "metadata": {
        "collapsed": false
      },
      "outputs": [],
      "source": [
        "c_on = -0.075\nc_off = 0.49"
      ]
    },
    {
      "cell_type": "markdown",
      "metadata": {},
      "source": [
        "define the zoom windows for the plots\n\n"
      ]
    },
    {
      "cell_type": "code",
      "execution_count": null,
      "metadata": {
        "collapsed": false
      },
      "outputs": [],
      "source": [
        "zoom00 = 0.0\nzoom01 = 110.0\nzoom0 = 53.6\nzoom1 = 55.6"
      ]
    },
    {
      "cell_type": "markdown",
      "metadata": {},
      "source": [
        "Geometrical parameters of the experiment\nhorizontal distance of center of seismometer to axis of rotation in m\n\n"
      ]
    },
    {
      "cell_type": "code",
      "execution_count": null,
      "metadata": {
        "collapsed": false
      },
      "outputs": [],
      "source": [
        "l = 0.32  # noqa\n# vertical distance of bottom of seismometer to axis of rotation in m\ndh = 0.047"
      ]
    },
    {
      "cell_type": "markdown",
      "metadata": {},
      "source": [
        "define the source stream (ss) and the receiver stream (sr) channels\n\n"
      ]
    },
    {
      "cell_type": "code",
      "execution_count": null,
      "metadata": {
        "collapsed": false
      },
      "outputs": [],
      "source": [
        "ch_sr = \"HHN\"\nch_ss = \"HJE\""
      ]
    },
    {
      "cell_type": "markdown",
      "metadata": {},
      "source": [
        "get the data\n\n"
      ]
    },
    {
      "cell_type": "code",
      "execution_count": null,
      "metadata": {
        "collapsed": false
      },
      "outputs": [],
      "source": [
        "vel_orig, rr_orig = get_data(\n    stream1,\n    stream2,\n    utctime,\n    duration,\n    correct_channel,\n    input_channel,\n    os.path.join(data_dir, \"station.xml\"),\n    ch_sr,\n    ch_ss,\n)"
      ]
    },
    {
      "cell_type": "markdown",
      "metadata": {},
      "source": [
        "make four independent streams containing tilt contaminated acceleration\nrecordings:\n(1) the original tilt contaminated stream for later comparisons\n(2) the stream that will be treated with the frequency domain (CaW)\ncorrection\n(3) the stream that will be treated with the frequency domain (coh)\ncorrection\n(4) the stream that will be treated with the time domain correction\n\n"
      ]
    },
    {
      "cell_type": "code",
      "execution_count": null,
      "metadata": {
        "collapsed": false
      },
      "outputs": [],
      "source": [
        "sr = vel_orig.copy()\nsr.filter(\"bandpass\", freqmin=0.03, freqmax=10, corners=8, zerophase=True)\n\nacc_orig = sr.copy()\nacc_orig.differentiate()  # original acc recording (reciever)\n\nrf1 = sr.copy()\nrf2 = sr.copy()\nrt = sr.copy()\nrf1.differentiate()  # reciever for freq-domain (coh) analysis (acc recording)\nrf2.differentiate()  # reciever for freq-domain (plain) analysis (acc recording)  # noqa\nrt.differentiate()  # reciever for time-domain analysis (acc recording)"
      ]
    },
    {
      "cell_type": "markdown",
      "metadata": {},
      "source": [
        "make two independent streams containing the tilt angle recording\n(1) original tilt angle recording for later comparisons\n(2) tilt angle recording as the source for the corrections\n\n"
      ]
    },
    {
      "cell_type": "code",
      "execution_count": null,
      "metadata": {
        "collapsed": false
      },
      "outputs": [],
      "source": [
        "ss = rr_orig.copy()\nss.filter(\"bandpass\", freqmin=0.03, freqmax=10, corners=8, zerophase=True)\n\nra_orig = ss.copy()\nra_orig.integrate()  # original rotation angle recording (source)\n\nts = ss.copy()\nts.integrate()  # source for correction (tilt angle recording)"
      ]
    },
    {
      "cell_type": "markdown",
      "metadata": {},
      "source": [
        "In this example, we are treating the North-axis of acceleration and the\nEast-axis of rotation angle. Thus, for a positive rotation, the tilt induced\naccelertion shows into the same direction as the horizontal ground movement\naccelertion. We account for this in the subsequent analysis by setting\n\n"
      ]
    },
    {
      "cell_type": "code",
      "execution_count": null,
      "metadata": {
        "collapsed": false
      },
      "outputs": [],
      "source": [
        "par = True"
      ]
    },
    {
      "cell_type": "markdown",
      "metadata": {},
      "source": [
        "Now, lets do the tilt corrections!\n\n## frequency domain (coh)\n\n"
      ]
    },
    {
      "cell_type": "code",
      "execution_count": null,
      "metadata": {
        "collapsed": false
      },
      "outputs": [],
      "source": [
        "fmin = None\nfmax = None\nacc_corr_freq1_data = remove_tilt(\n    rf1[0].data,\n    ts[0].data,\n    rf1[0].stats.delta,\n    fmin,\n    fmax,\n    parallel=par,\n    smooth=100.0 / 164.0,\n    method=\"coh\",\n)\n\nacc_corr_freq1 = acc_orig.copy()\nacc_corr_freq1[0].data = acc_corr_freq1_data\n\nacc_corr_freq1.detrend(\"demean\")\n\nvel_corr_freq1 = acc_corr_freq1.copy()\nvel_corr_freq1.integrate()\n\n# -----------------------------------------------------------------------------\n# frequency domain (plain)\n# -----------------------------------------------------------------------------\n\nfmin = None\nfmax = None\nacc_corr_freq2_data = remove_tilt(\n    rf2[0].data,\n    ts[0].data,\n    rf2[0].stats.delta,\n    fmin,\n    fmax,\n    parallel=par,\n    smooth=100.0 / 164.0,\n    method=\"freq\",\n)\n\nacc_corr_freq2 = acc_orig.copy()\nacc_corr_freq2[0].data = acc_corr_freq2_data\n\nacc_corr_freq2.detrend(\"demean\")\n\nvel_corr_freq2 = acc_corr_freq2.copy()\nvel_corr_freq2.integrate()\n\n# -----------------------------------------------------------------------------\n# time domain\n# -----------------------------------------------------------------------------\n\nacc_corr_time_data = remove_tilt(\n    rt[0].data, ts[0].data, rt[0].stats.delta, parallel=par\n)\nacc_corr_time = acc_orig.copy()\nacc_corr_time[0].data = acc_corr_time_data\n\nacc_corr_time.detrend(\"demean\")\n\nvel_corr_time = acc_corr_time.copy()\nvel_corr_time.integrate()"
      ]
    },
    {
      "cell_type": "markdown",
      "metadata": {},
      "source": [
        "Due to the very well known geometry in the tilt table experiment, we can play\nsome games e.g. try to locate the proof mass of the seismometer and compare\nthe output of our corrections with theortically expercted movements.\n\n"
      ]
    },
    {
      "cell_type": "code",
      "execution_count": null,
      "metadata": {
        "collapsed": false
      },
      "outputs": [],
      "source": [
        "on, off = trigger(rr_orig[0], 10, 140, 6.0, 5.0, c_on, c_off, S, E, plot=False)\n\n# define a time axis\nsec = np.arange(len(acc_orig[0].data)) / (acc_orig[0].stats.sampling_rate)\n\nprint(len(on))\nprint(len(off))\n\n# calculate residual displacement\n\nalpha = get_angle(ts, on, off)  # angle steps recorded by BS1"
      ]
    },
    {
      "cell_type": "markdown",
      "metadata": {},
      "source": [
        "in theory: according to Steffen position of the mass is approximately at the\nmiddle of the housing\n\n"
      ]
    },
    {
      "cell_type": "code",
      "execution_count": null,
      "metadata": {
        "collapsed": false
      },
      "outputs": [],
      "source": [
        "h_m = 0.0575  # m\nh = h_m  # m\n\nstd_m = 0.01\n\nr, centr = theo_resid_disp(ts[0].data, l, h, dh, rr_orig[0].data)\ntrr = Stream(traces=Trace(data=r, header=ts[0].stats))\ntrr.differentiate()\ntrr_a = trr.copy()\ntrr_a.differentiate()\ntime_ttheo, disp_ttheo, mean_disp_ttheo, sigma_ttheo = calc_residual_disp(\n    trr, on, off, np.zeros(len(r)), theo=True\n)\nh_ttheo, std_ttheo = calc_height_of_mass(mean_disp_ttheo, l, dh, alpha)\n\ntcentr = Stream(traces=Trace(data=centr, header=ts[0].stats))\ntcentr.detrend(\"demean\")\ntcentr.detrend(\"linear\")\ntcentr.integrate()\ntcentr.detrend(\"demean\")\ntcentr.detrend(\"linear\")\ntcentr.integrate()"
      ]
    },
    {
      "cell_type": "markdown",
      "metadata": {},
      "source": [
        "correct for residual displacement in time domain\n\n"
      ]
    },
    {
      "cell_type": "code",
      "execution_count": null,
      "metadata": {
        "collapsed": false
      },
      "outputs": [],
      "source": [
        "acc_corr_time2 = acc_corr_time.copy()\nacc_corr_time2[0].data = acc_corr_time2[0].data - trr_a[0].data\n\nvel_corr_time2 = acc_corr_time2.copy()\nvel_corr_time2.integrate()\n\ntr1_vel = vel_corr_freq1.copy()\ntr2_vel = vel_corr_freq2.copy()\ntt_vel = vel_corr_time.copy()\ntt2_vel = vel_corr_time2.copy()\n\ntr1_new = vel_corr_freq1.copy()\ntr2_new = vel_corr_freq2.copy()\ntt_new = vel_corr_time.copy()\ntt2_new = vel_corr_time2.copy()\n\ntime_tr1, disp_tr1, mean_disp_tr1, sigma_tr1 = calc_residual_disp(tr1_new, on, off, r)\n\ntime_tr2, disp_tr2, mean_disp_tr2, sigma_tr2 = calc_residual_disp(tr2_new, on, off, r)\n\ntime_tt, disp_tt, mean_disp_tt, sigma_tt = calc_residual_disp(tt_new, on, off, r)\n\ntime_tt2, disp_tt2, mean_disp_tt2, sigma_tt2 = calc_residual_disp(tt2_new, on, off, r)"
      ]
    },
    {
      "cell_type": "markdown",
      "metadata": {},
      "source": [
        "calculate the position of the seismometer mass\n\n"
      ]
    },
    {
      "cell_type": "code",
      "execution_count": null,
      "metadata": {
        "collapsed": false
      },
      "outputs": [],
      "source": [
        "h_tr1, std_tr1 = calc_height_of_mass(mean_disp_tr1, l, dh, alpha)\nh_tr2, std_tr2 = calc_height_of_mass(mean_disp_tr2, l, dh, alpha)\nh_tt, std_tt = calc_height_of_mass(mean_disp_tt, l, dh, alpha)\n\ndisp_corr_freq1 = vel_corr_freq1.copy()\ndisp_corr_freq1.integrate()\n\ndisp_corr_freq2 = vel_corr_freq2.copy()\ndisp_corr_freq2.integrate()\n\ndisp_corr_time = vel_corr_time.copy()\ndisp_corr_time.integrate()\n\ndisp_corr_time2 = vel_corr_time2.copy()\ndisp_corr_time2.integrate()\n\n# -----------------------------------------------------------------------------\n# OUTPUT\n# -----------------------------------------------------------------------------\nscale = 1.0e3\nscaled = 1.0e6\n\nprint(\"-----------------------------------------------\")\nprint(\"mean residual displacement:\")\nprint(\n    \"frequency domain (coh): %.3f +/- %.3f mm\"\n    % (mean_disp_tr1 * scale, sigma_tr1 * scale)\n)\nprint(\n    \"frequency domain (CaW): %.3f +/- %.3f mm\"\n    % (mean_disp_tr2 * scale, sigma_tr2 * scale)\n)\nprint(\n    \"time domain           : %.3f +/- %.3f mm\"\n    % (mean_disp_tt * scale, sigma_tt * scale)\n)\nprint(\"\")\nprint(\"-----------------------------------------------\")\nprint(\"height of seismometer mass:\")\nprint(\"frequency domain (coh): %.3f +/- %.3f mm\" % (h_tr1 * scale, std_tr1 * scale))\nprint(\"frequency domain (CaW): %.3f +/- %.3f mm\" % (h_tr2 * scale, std_tr2 * scale))\nprint(\"time domain           : %.3f +/- %.3f mm\" % (h_tt * scale, std_tt * scale))\nprint(\"theoretical           : %.3f +/- %.3f mm\" % (h_ttheo * scale, std_ttheo * scale))\nprint(\"measured              : %.3f +/- %.3f mm\" % (h_m * scale, std_m * scale))\nprint(\"-----------------------------------------------\")\nprint(\"\")"
      ]
    },
    {
      "cell_type": "markdown",
      "metadata": {},
      "source": [
        "## Plots\nUncomment the following lines in case you want to use latex for type setting\n\n"
      ]
    },
    {
      "cell_type": "code",
      "execution_count": null,
      "metadata": {
        "collapsed": false
      },
      "outputs": [],
      "source": [
        "# params = {\n#     'text.usetex': True,\n#     'text.latex.preamble': [\n#         r'\\usepackage{cmbright}', r'\\usepackage{amsmath}']}\n# plt.rcParams.update(params)\nplt.rcParams[\"figure.figsize\"] = 7.1, 9.6\nsizeOfFont = 12\nfontProperties = {\"weight\": \"normal\", \"size\": sizeOfFont}\nrc(\"font\", **fontProperties)\n\n# -----------------------------------------------------------------------------\n# colors and linestyles\n# define colors\nal_trig = 0.1\n\nc_trig_on = (0, 0, 0)\nc_trig_off = (0, 0, 0)\n\nc_angle = (1, 0, 0)\nc_vel = (0, 0, 0)\n\nc_time = (0, 0, 1)\nc_time2 = (0, 0.8, 1)\nc_coh = (1, 0.54, 0)\nc_freq = (0, 0.8, 0)\n\nc_tdisp = (0, 0, 0)\n\n# define linestyles\nls_trig_on = \"-\"\nls_trig_off = \"-\"\n\nls_angle = \"-\"\nls_vel = \"-\"\n\nls_time = \"-\"\nls_time2 = \"--\"\nls_coh = \"--\"\nls_freq = \":\"\n\nls_tdisp = \":\"\n\n# define linewidth\nlw_trig_on = 2.0\nlw_trig_off = 2.0\n\nlw_angle = 2.0\nlw_vel = 2.0\n\nlw_time = 1.5\nlw_time2 = 1.5\nlw_coh = 2.5\nlw_freq = 2.5\n\nlw_tdisp = 2.0\n\n# define labels\nl_trig = \"step table movement\"\n\nl_angle = \"tilt angle\"\nl_vel = \"NOT corrected\"\n\nl_time = \"corr. time domain\"\nl_time2 = \"corr. time domain with disp\"\nl_coh = \"corr. frequency domain (adapted)\"\nl_freq = \"corr. frequency domain (CaW2000)\"\n\nl_tdisp = \"theo. displacement\"\n# END colors and linestyles"
      ]
    },
    {
      "cell_type": "code",
      "execution_count": null,
      "metadata": {
        "collapsed": false
      },
      "outputs": [],
      "source": [
        "gridspec = dict(hspace=0.0, height_ratios=[1, 1, 0.2, 1, 1])\nfig, axs = plt.subplots(nrows=5, ncols=1, gridspec_kw=gridspec)\naxs[2].set_visible(False)\n\nax0 = axs[0]\nax2 = axs[1]\nax3 = axs[3]\nax31 = ax3.twinx()\nax4 = axs[4]\n\n(line_angle,) = ax0.plot(\n    sec,\n    ts[0].data * scale,\n    color=c_angle,\n    linestyle=ls_angle,\n    linewidth=lw_angle,\n    label=l_angle,\n)\n\nfor i in range(len(on)):\n    p_trig = ax0.axvspan(on[i], off[i], alpha=al_trig, color=c_trig_on)\n\n(line_vel,) = ax2.plot(\n    sec,\n    vel_orig[0].data * scale,\n    color=c_vel,\n    linestyle=ls_vel,\n    linewidth=lw_vel,\n    label=l_vel,\n)\n\n(line_time,) = ax2.plot(\n    sec,\n    tt_vel[0].data * scale,\n    color=c_time,\n    linestyle=ls_time,\n    linewidth=lw_time,\n    label=l_time,\n)\n\nfor i in range(len(on)):\n    ax2.axvspan(on[i], off[i], alpha=al_trig, color=c_trig_on)\n\n(line_angle,) = ax31.plot(\n    sec,\n    ts[0].data * scale,\n    color=c_angle,\n    linestyle=ls_angle,\n    linewidth=lw_angle,\n    label=l_angle,\n)\n\nfor i in range(len(on)):\n    p_trig = ax31.axvspan(on[i], off[i], alpha=al_trig, color=c_trig_on)\n\n(line_time,) = ax3.plot(\n    sec,\n    tt_vel[0].data * scale,\n    color=c_time,\n    linestyle=ls_time,\n    linewidth=lw_time,\n    label=l_time,\n)\n\n(line_coh,) = ax3.plot(\n    sec,\n    tr1_vel[0].data * scale,\n    color=c_coh,\n    linestyle=ls_coh,\n    linewidth=lw_coh,\n    label=l_coh,\n)\n\n(line_freq,) = ax3.plot(\n    sec,\n    tr2_vel[0].data * scale,\n    color=c_freq,\n    linestyle=ls_freq,\n    linewidth=lw_freq,\n    label=l_freq,\n)\n\n(line_time2,) = ax3.plot(\n    sec,\n    vel_corr_time2[0].data * scale,\n    color=c_time2,\n    linestyle=ls_time2,\n    linewidth=lw_time2,\n    label=l_time2,\n)\n\nfor i in range(len(on)):\n    ax4.axvspan(on[i], off[i], alpha=al_trig, color=c_trig_on)\n\n    (line_time_d,) = ax4.plot(\n        time_tt[i],\n        disp_tt[i] * scaled,\n        color=c_time,\n        linestyle=ls_time,\n        linewidth=lw_time,\n        label=l_time,\n    )\n\n    (line_coh_d,) = ax4.plot(\n        time_tr1[i],\n        disp_tr1[i] * scaled,\n        color=c_coh,\n        linestyle=ls_coh,\n        linewidth=lw_coh,\n        label=l_coh,\n    )\n\n    (line_freq_d,) = ax4.plot(\n        time_tr2[i],\n        disp_tr2[i] * scaled,\n        color=c_freq,\n        linestyle=ls_freq,\n        linewidth=lw_freq,\n        label=l_freq,\n    )\n\n    (line_time_d2,) = ax4.plot(\n        time_tt2[i],\n        disp_tt2[i] * scaled,\n        color=c_time2,\n        linestyle=ls_time2,\n        linewidth=lw_time2,\n        label=l_time2,\n    )\n\n(line_theo_d,) = ax4.plot(\n    sec, r * scaled, color=c_tdisp, linestyle=ls_tdisp, label=l_tdisp\n)\n\nax0.set_ylabel(\"rotation angle [mrad]\", color=c_angle)\n\nax2.set_ylabel(\"velocity [mm/s]\")\n\nax3.set_ylabel(\"velocity [mm/s]\")\nax31.set_ylabel(\"rotation angle [mrad]\", color=c_angle)\n\nax4.set_ylabel(\"displacement [mum]\")\nax4.set_xlabel(\"time [s]\")\n\nax0.tick_params(\"y\", colors=c_angle)\nax31.tick_params(\"y\", colors=c_angle)\n\nax0.tick_params(direction=\"in\")\nax2.tick_params(direction=\"in\")\nax3.tick_params(direction=\"in\")\nax31.tick_params(direction=\"in\")\nax4.tick_params(direction=\"in\")\n\nax0.set_xticklabels([])\nax31.set_xticklabels([])\nax3.set_xticklabels([])\n\nax0.text(-16, 0.26, \"(a)\")\nax3.text(53.32, 0.13, \"(b)\")\n\n# legend\nba = (-0.098, 3.2)\nlines = (\n    p_trig,\n    line_angle,\n    line_vel,\n    line_theo_d,\n    line_coh,\n    line_freq,\n    line_time,\n    line_time2,\n)\nlabels = (l_trig, l_angle, l_vel, l_tdisp, l_coh, l_freq, l_time, l_time2)\nplt.legend(\n    lines, labels, loc=ba, bbox_transform=None, borderaxespad=0.0, frameon=False, ncol=2\n)\n\nax0.set_xlim(zoom00, zoom01)\nax2.set_xlim(zoom00, zoom01)\nax3.set_xlim(zoom0, zoom1)\nax31.set_xlim(zoom0, zoom1)\nax4.set_xlim(zoom0, zoom1)\n\nplt.subplots_adjust(top=0.868, bottom=0.053, left=0.118, right=0.88)\n\nzoom_effect01(ax2, ax3, 54.16, 55.00)\n\nplt.gcf().savefig(\"tilt_correction_step_table.png\")\n\nplt.show()"
      ]
    }
  ],
  "metadata": {
    "kernelspec": {
      "display_name": "Python 3",
      "language": "python",
      "name": "python3"
    },
    "language_info": {
      "codemirror_mode": {
        "name": "ipython",
        "version": 3
      },
      "file_extension": ".py",
      "mimetype": "text/x-python",
      "name": "python",
      "nbconvert_exporter": "python",
      "pygments_lexer": "ipython3",
      "version": "3.7.12"
    }
  },
  "nbformat": 4,
  "nbformat_minor": 0
}