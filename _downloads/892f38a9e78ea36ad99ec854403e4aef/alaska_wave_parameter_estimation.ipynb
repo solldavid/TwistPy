{
  "cells": [
    {
      "cell_type": "code",
      "execution_count": null,
      "metadata": {
        "collapsed": false
      },
      "outputs": [],
      "source": [
        "%matplotlib inline"
      ]
    },
    {
      "cell_type": "markdown",
      "metadata": {},
      "source": [
        "\n# 6-C Wave parameter estimation: gulf of alaska earthquake\nThis tutorial will teach you how to use TwistPy to process six component seismic data as recorded by collocated\ntranslational and rotational seismometers. The data used in this tutorial was recorded at the large ring laser\nobservatory ROMY in Furstenfeldbruck, Germany after the January, 23rd 2018 M7.8 gulf of Alaska earthquake\n(Occurence Time: 2018-01-23 09:31:40 UTC).\n"
      ]
    },
    {
      "cell_type": "code",
      "execution_count": null,
      "metadata": {
        "collapsed": false
      },
      "outputs": [],
      "source": [
        "from obspy import read\n\nfrom twistpy.polarization import TimeFrequencyAnalysis6C, EstimatorConfiguration"
      ]
    },
    {
      "cell_type": "markdown",
      "metadata": {},
      "source": [
        "We start by reading in the 6DOF data and apply some basic pre-processing to it using standard ObsPy functionality.\nTo ensure that the amplitudes of all six time series are on the same order of magnitude and have the same unit,\nwe apply a scaling velocity to the translational components:\n\n"
      ]
    },
    {
      "cell_type": "code",
      "execution_count": null,
      "metadata": {
        "collapsed": false
      },
      "outputs": [],
      "source": [
        "data = read(\"../example_data/ROMY_gulf_of_alaska_teleseism.mseed\")\nscaling_velocity = 4500.0\n\nfor n, trace in enumerate(data):\n    trace.detrend(\"spline\", order=5, dspline=100)\n    trace.trim(starttime=trace.stats.starttime, endtime=trace.stats.endtime - 4500)\n    trace.taper(0.2)\n    if n < 3:\n        trace.data /= scaling_velocity"
      ]
    },
    {
      "cell_type": "markdown",
      "metadata": {},
      "source": [
        "Now we are ready to set up the 6DOF polarization analysis problem. The spectral matrices from which the polarization\nattributes are estimated are computed in a time-frequency window. We choose the window to be frequency-dependent and\nextend over 1 period (1/f) in the time direction and over 0.01 Hz in the frequency direction:\n\n"
      ]
    },
    {
      "cell_type": "code",
      "execution_count": null,
      "metadata": {
        "collapsed": false
      },
      "outputs": [],
      "source": [
        "window = {\"number_of_periods\": 1, \"frequency_extent\": 0.01}"
      ]
    },
    {
      "cell_type": "markdown",
      "metadata": {},
      "source": [
        "Now we are ready to set up the 6DOF polarization analysis problem.  We want to perform the analysis in the\ntime-frequency domain, so we set up a TimeFrequencyAnalysis6C object and feed it our data and the polarization\nanalysis window. Additionally, we restrict the analysis to the frequency range between 0.01 and 0.15 Hz, where\nwe expect surface waves to dominate. To reduce the computational effort, we only compute wave paramters at every 20th\nsample in time and in frequency:\n\n"
      ]
    },
    {
      "cell_type": "code",
      "execution_count": null,
      "metadata": {
        "collapsed": false
      },
      "outputs": [],
      "source": [
        "analysis = TimeFrequencyAnalysis6C(\n    traN=data[0],\n    traE=data[1],\n    traZ=data[2],\n    rotN=data[3],\n    rotE=data[4],\n    rotZ=data[5],\n    window=window,\n    dsfacf=20,\n    dsfact=20,\n    frange=[0.01, 0.15],\n)"
      ]
    },
    {
      "cell_type": "markdown",
      "metadata": {},
      "source": [
        "Now we set up an EstimaatorConfiguration, specifying for which wave types we want to estimate wave parameters (in\nthis example only Rayleigh waves), what kind of estimator we want to use, and the range of wave parameters that are\ntested.\n\n"
      ]
    },
    {
      "cell_type": "code",
      "execution_count": null,
      "metadata": {
        "collapsed": false
      },
      "outputs": [],
      "source": [
        "est = EstimatorConfiguration(\n    wave_types=[\"R\"],\n    method=\"DOT\",\n    scaling_velocity=scaling_velocity,\n    use_ml_classification=False,\n    vr=[3000, 4000, 100],\n    xi=[-90, 90, 2],\n    phi=[150, 210, 1],\n    eigenvector=0,\n)"
      ]
    },
    {
      "cell_type": "markdown",
      "metadata": {},
      "source": [
        "Let's start the analysis!\n\n"
      ]
    },
    {
      "cell_type": "code",
      "execution_count": null,
      "metadata": {
        "collapsed": false
      },
      "outputs": [],
      "source": [
        "analysis.polarization_analysis(estimator_configuration=est)"
      ]
    },
    {
      "cell_type": "markdown",
      "metadata": {},
      "source": [
        "Once the wave parameters are computed, we can access them as a dictionary obtained from the attribute wave_parameters.\n\n"
      ]
    },
    {
      "cell_type": "code",
      "execution_count": null,
      "metadata": {
        "collapsed": false
      },
      "outputs": [],
      "source": [
        "print(analysis.wave_parameters)"
      ]
    },
    {
      "cell_type": "markdown",
      "metadata": {},
      "source": [
        "To directly extract the Rayleigh wave parameters, we can access them in the following way (here we extract the\nRayleigh wave propagation azimuth). With the corresponding time and frequency vectors.\n\n"
      ]
    },
    {
      "cell_type": "code",
      "execution_count": null,
      "metadata": {
        "collapsed": false
      },
      "outputs": [],
      "source": [
        "azi_rayleigh = analysis.wave_parameters[\"R\"][\"phi\"]\nf = analysis.f_pol\nt = analysis.t_pol"
      ]
    },
    {
      "cell_type": "markdown",
      "metadata": {},
      "source": [
        "You can either plot the estimated parameters yourself or make use of the implemented plotting routines, where lh_min\nand lh_max determine the estimator power range for which the parameters are plotted. For the 'DOT' method that we used\nhere, this corresponds to a simple likelihood, meaning that we only want to plot the results at time-frequency pixels\nwhere the Rayleigh wave model fits the data with a likelihoood larger than 0.7.\n\n"
      ]
    },
    {
      "cell_type": "code",
      "execution_count": null,
      "metadata": {
        "collapsed": false
      },
      "outputs": [],
      "source": [
        "analysis.plot_wave_parameters(estimator_configuration=est, lh_min=0.7, lh_max=1.0)"
      ]
    }
  ],
  "metadata": {
    "kernelspec": {
      "display_name": "Python 3",
      "language": "python",
      "name": "python3"
    },
    "language_info": {
      "codemirror_mode": {
        "name": "ipython",
        "version": 3
      },
      "file_extension": ".py",
      "mimetype": "text/x-python",
      "name": "python",
      "nbconvert_exporter": "python",
      "pygments_lexer": "ipython3",
      "version": "3.7.12"
    }
  },
  "nbformat": 4,
  "nbformat_minor": 0
}