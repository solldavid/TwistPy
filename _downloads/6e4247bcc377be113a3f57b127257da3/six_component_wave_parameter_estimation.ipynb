{
  "cells": [
    {
      "cell_type": "code",
      "execution_count": null,
      "metadata": {
        "collapsed": false
      },
      "outputs": [],
      "source": [
        "%matplotlib inline"
      ]
    },
    {
      "cell_type": "markdown",
      "metadata": {},
      "source": [
        "\n# 6-C Polarization Analysis: Time-domain wave parameter estimation\nIn this tutorial, you will learn how to estimate wave parameters in the time domain using 6C polarization analysis.\nFor efficiency, we use a machine learning model to first classify the wave type before estimating wave parameters.\n"
      ]
    },
    {
      "cell_type": "code",
      "execution_count": null,
      "metadata": {
        "collapsed": false
      },
      "outputs": [],
      "source": [
        "import matplotlib.pyplot as plt\nimport numpy as np\nfrom obspy.core import Trace, Stream\nfrom scipy.signal import hilbert, convolve\n\nfrom twistpy.convenience import ricker\nfrom twistpy.polarization import (\n    TimeDomainAnalysis6C,\n    PolarizationModel6C,\n    SupportVectorMachine,\n    EstimatorConfiguration,\n)\n\nrng = np.random.default_rng(1)\n\n# sphinx_gallery_thumbnail_number = -1"
      ]
    },
    {
      "cell_type": "markdown",
      "metadata": {},
      "source": [
        "We start by generating a very simple synthetic data set for illustration purposes. The data will contain isolated wave\narrivals for a P-wave, an SV-wave, an SH wave, a Love-wave, and a Rayleigh wave. To generate the data, we make use\nof the pure state polarization models that are implemented in the class 'twistpy.polarization.PolarizationModel6C'.\nNote that this example is purely meant to illustrate the usage of TwistPy's wave type classification tools, by using\nthe same model to generate the synthetics as we use for training and classification, we are practically committing an\ninverse crime, so that the classification will always yield perfect results.\n\n"
      ]
    },
    {
      "cell_type": "code",
      "execution_count": null,
      "metadata": {
        "collapsed": false
      },
      "outputs": [],
      "source": [
        "# Generate an empty time series for each wave\nN = 1000  # Number of samples in the time series\nsignal1 = np.zeros((N, 6))  # Each signal has six components\nsignal2 = np.zeros((N, 6))\nsignal3 = np.zeros((N, 6))\nsignal4 = np.zeros((N, 6))\nsignal5 = np.zeros((N, 6))\n\ndt = 1.0 / 1000.0  # sampling interval\nt = np.arange(0, signal1.shape[0]) * dt  # time axis\nwavelet, t_wav, wcenter = ricker(\n    t, 20.0\n)  # generate a Ricker wavelet with 30 Hz center frequency\nwavelet = wavelet[wcenter - int(len(t) / 2) : wcenter + int(len(t) / 2)]\nwavelet_hilb = np.imag(\n    hilbert(wavelet)\n)  # Here we make use of the Hilbert transform to generate a Ricker wavelet\n# with a 90 degree phase shift. This is to account for the fact that, for Rayleigh waves, the horizontal components are\n# phase-shifted by 90 degrees with respect to the other components."
      ]
    },
    {
      "cell_type": "markdown",
      "metadata": {},
      "source": [
        "We now generate the relative amplitudes with which the waves are recorded on the six-component seismometer. All waves\nwill arrive with a propagation azimuth of 30 degrees, the body waves will have an inclination angle of 20 degrees. The\nlocal P-wave and S-wave velocities at the recording station are assumed to be 1000 m/s and 400 m/s, respectively. Both\nthe Love and Rayleigh wave velocities are assumed to be 300 m/s, and the Rayleigh wave ellipticity angle is set to be\n-45 degrees.\n\n"
      ]
    },
    {
      "cell_type": "code",
      "execution_count": null,
      "metadata": {
        "collapsed": false
      },
      "outputs": [],
      "source": [
        "wave1 = PolarizationModel6C(\n    wave_type=\"P\", theta=20.0, phi=30.0, vp=1000.0, vs=400.0\n)  # Generate a P-wave polarization model for\n# a P-wave recorded at the free surface with an inclination of 20 degrees, an azimuth of 30 degrees. The local P- and\n# S-wave velocities are 1000 m/s and 400 m/s\nwave2 = PolarizationModel6C(\n    wave_type=\"SV\", theta=20.0, phi=30.0, vp=1000.0, vs=400.0\n)  # Generate an SV-wave polarization model\nwave3 = PolarizationModel6C(\n    wave_type=\"SH\", theta=20.0, phi=30.0, vs=400.0, vl=400.0\n)  # Generate an SH-wave polarization model\nwave4 = PolarizationModel6C(\n    wave_type=\"L\", phi=270.0, vl=300.0\n)  # Generate a Love-wave polarization model\nwave5 = PolarizationModel6C(\n    wave_type=\"R\", phi=290.0, vr=300.0, xi=-45.0\n)  # Generate a Rayleigh-wave polarization model with a\n# Rayleigh wave ellipticity angle of -45 degrees."
      ]
    },
    {
      "cell_type": "markdown",
      "metadata": {},
      "source": [
        "Now we populate our signal with the computed amplitudes by setting a spike with the respective amplitude onto the\ndifferent locations of the time axis. Then we convolve the data with the Ricker wavelet to generate our synthetic\ntest seismograms.\n\n"
      ]
    },
    {
      "cell_type": "code",
      "execution_count": null,
      "metadata": {
        "collapsed": false
      },
      "outputs": [],
      "source": [
        "signal1[100, 2:] = wave1.polarization[2:].real.T\nsignal1[100, 0:2] = wave1.polarization[0:2].imag.T\nsignal2[300, :] = wave2.polarization.real.T\nsignal3[500, :] = wave3.polarization.real.T\nsignal4[700, :] = wave4.polarization.real.T\nsignal5[900, 2:] = np.real(wave5.polarization[2:].T)\nsignal5[900, 0:2] = np.imag(wave5.polarization[0:2].T)\n\nfor j in range(0, signal1.shape[1]):\n    signal1[:, j] = convolve(signal1[:, j], wavelet, mode=\"same\")\n    signal2[:, j] = convolve(signal2[:, j], wavelet, mode=\"same\")\n    signal3[:, j] = convolve(signal3[:, j], wavelet, mode=\"same\")\n    signal4[:, j] = convolve(signal4[:, j], wavelet, mode=\"same\")\n\n    if (\n        j == 0 or j == 1\n    ):  # Special case for horizontal translational components of the Rayleigh wave\n        signal5[:, j] = convolve(signal5[:, j], wavelet_hilb, mode=\"same\")\n    else:\n        signal5[:, j] = convolve(signal5[:, j], wavelet, mode=\"same\")\n\nsignal = signal1 + signal2 + signal3 + signal4 + signal5  # sum all signals together\n\n# Plot the data\nplt.figure(figsize=(10, 5))\nplt.plot(t, signal[:, 0], \"k:\", label=\"traN\")\nplt.plot(t, signal[:, 1], \"k--\", label=\"traE\")\nplt.plot(t, signal[:, 2], \"k\", label=\"traZ\")\nplt.plot(t, signal[:, 3], \"r:\", label=\"rotN\")\nplt.plot(t, signal[:, 4], \"r--\", label=\"rotE\")\nplt.plot(t, signal[:, 5], \"r\", label=\"rotZ\")\nplt.text((100 - 120) * dt, 0.7, \"P-wave\")\nplt.text((300 - 120) * dt, 0.7, \"SV-wave\")\nplt.text((500 - 120) * dt, 0.7, \"SH-wave\")\nplt.text((700 - 120) * dt, 0.7, \"Love-wave\")\nplt.text((900 - 120) * dt, 0.7, \"Rayleigh-wave\")\nplt.legend(loc=\"center left\", bbox_to_anchor=(1, 0.5))\nplt.xlabel(\"Time (s)\")"
      ]
    },
    {
      "cell_type": "markdown",
      "metadata": {},
      "source": [
        "Note that the translational components and the rotational components have different units. The PolarizationModel class\nyields the amplitudes in acceleration (m/s/s) for the translational components and in rotation rate (rad/s) for the\nrotational components. Since the rotational signal scales with the local wave slowness, it is barely visible in the\nplot above. For polarization analysis, we want to make sure that both the translational and the rotational components\nhave the same units and that the amplitudes are comparable, we therefore divide the translational components by a\nscaling velocity and plot the data again. Here we choose a scaling velocity of 400 m/s. Applying a scaling velocity to\nthe recorded data is a crucial step when processing real data. Choose a scaling velocity that ensures that the\ntranslational and rotational signals have comparable amplitudes.\n\n"
      ]
    },
    {
      "cell_type": "code",
      "execution_count": null,
      "metadata": {
        "collapsed": false
      },
      "outputs": [],
      "source": [
        "scaling_velocity = 400.0\nsignal[:, 0:3] /= scaling_velocity  # Apply scaling velocity to the translational data\n\nsignal += 0.1 * signal.max().max() * np.random.random((N, 6))\n\nplt.figure(figsize=(10, 5))\nplt.plot(t, signal[:, 0], \"k:\", label=\"traN\")\nplt.plot(t, signal[:, 1], \"k--\", label=\"traE\")\nplt.plot(t, signal[:, 2], \"k\", label=\"traZ\")\nplt.plot(t, signal[:, 3], \"r:\", label=\"rotN\")\nplt.plot(t, signal[:, 4], \"r--\", label=\"rotE\")\nplt.plot(t, signal[:, 5], \"r\", label=\"rotZ\")\nplt.text((100 - 120) * dt, 0.7 / scaling_velocity, \"P-wave\")\nplt.text((300 - 120) * dt, 0.7 / scaling_velocity, \"SV-wave\")\nplt.text((500 - 120) * dt, 0.7 / scaling_velocity, \"SH-wave\")\nplt.text((700 - 120) * dt, 0.7 / scaling_velocity, \"Love-wave\")\nplt.text((900 - 120) * dt, 0.7 / scaling_velocity, \"Rayleigh-wave\")\nplt.legend(loc=\"center left\", bbox_to_anchor=(1, 0.5))\nplt.xlabel(\"Time (s)\")"
      ]
    },
    {
      "cell_type": "markdown",
      "metadata": {},
      "source": [
        "To make the synthetics accessible to TwistPy, we convert them to an Obspy Stream object.\n\n"
      ]
    },
    {
      "cell_type": "code",
      "execution_count": null,
      "metadata": {
        "collapsed": false
      },
      "outputs": [],
      "source": [
        "data = Stream()\nfor n in range(signal.shape[1]):\n    trace = Trace(\n        data=signal[:, n],\n        header={\"delta\": t[1] - t[0], \"npts\": int(signal.shape[0]), \"starttime\": 0.0},\n    )\n    data += trace"
      ]
    },
    {
      "cell_type": "markdown",
      "metadata": {},
      "source": [
        "Now to the actual wave type classification. If we haven't done so already, we first need to train a machine learning\nmodel, that allows us to classify the waves. For this, we set up a support vector machine. In our example, we consider\nwave parameters that are typical for the near surface, so we give the support vector machine a fitting name\n\n"
      ]
    },
    {
      "cell_type": "code",
      "execution_count": null,
      "metadata": {
        "collapsed": false
      },
      "outputs": [],
      "source": [
        "svm = SupportVectorMachine(name=\"love_wave\")"
      ]
    },
    {
      "cell_type": "markdown",
      "metadata": {},
      "source": [
        "Now we can train the model. For details, please check the example on how to train a\n'twistpy.machinelearning.SupportVectorMachine' object. In short, we want to train the model for wave parameters\nthat are typical for the near surface, and we want to be able to identify P, SV, SH and Rayleigh waves. This means\nthat we do not make a distinction between Love and SH waves here, and Love waves will simply be contained in the SH\nwave class as the special case of horizontally propagating SH waves. Additionally, we make use of a Noise class, for\nanalysis windows with a random polarization. We allow waves to arrive from all directions (azimuth range [0 360]\ndegrees and inclination range [0 90] degrees).\n\n"
      ]
    },
    {
      "cell_type": "code",
      "execution_count": null,
      "metadata": {
        "collapsed": false
      },
      "outputs": [],
      "source": [
        "svm.train(\n    wave_types=[\"R\", \"P\", \"SV\", \"L\", \"Noise\"],\n    N=5000,\n    scaling_velocity=scaling_velocity,\n    vp=(400, 3000),\n    vp_to_vs=(1.7, 2.4),\n    vl=(100, 3000),\n    vr=(100, 3000),\n    phi=(0, 360),\n    theta=(0, 90),\n    xi=(-90, 90),\n    free_surface=True,\n    C=1,\n    kernel=\"rbf\",\n)"
      ]
    },
    {
      "cell_type": "markdown",
      "metadata": {},
      "source": [
        "Now that we have trained the model, we can set up our analysis. We will perform 6C polarization analysis in the time\ndomain and use a sliding time window that is 0.05 s long (50 samples) with an overlap between subsequent windows of\n50%.\n\n"
      ]
    },
    {
      "cell_type": "code",
      "execution_count": null,
      "metadata": {
        "collapsed": false
      },
      "outputs": [],
      "source": [
        "window = {\"window_length_seconds\": 50.0 * dt, \"overlap\": 1.0}\nanalysis = TimeDomainAnalysis6C(\n    traN=data[0],\n    traE=data[1],\n    traZ=data[2],\n    rotN=data[3],\n    rotE=data[4],\n    rotZ=data[5],\n    window=window,\n    scaling_velocity=scaling_velocity,\n    timeaxis=\"rel\",\n)"
      ]
    },
    {
      "cell_type": "markdown",
      "metadata": {},
      "source": [
        "To classify the waves, we simply do (yielding a classification of the first eigenvector of the covariance matrix):\n\n"
      ]
    },
    {
      "cell_type": "code",
      "execution_count": null,
      "metadata": {
        "collapsed": false
      },
      "outputs": [],
      "source": [
        "analysis.classify(svm=svm, eigenvector_to_classify=0)\nclassification = analysis.classification[\"0\"]\nt_windows = (\n    analysis.t_windows\n)  # Positions of the sliding time windows where the classification was performed\n\n#  Wave parameter estimation\n\nest = EstimatorConfiguration(\n    wave_types=[\"L\", \"R\"],\n    method=\"ML\",\n    scaling_velocity=scaling_velocity,\n    use_ml_classification=True,\n    svm=svm,\n)\nanalysis.polarization_analysis(estimator_configuration=est)\nanalysis.plot(estimator_configuration=est, dop_clip=0.9)\ntest = 1"
      ]
    }
  ],
  "metadata": {
    "kernelspec": {
      "display_name": "Python 3",
      "language": "python",
      "name": "python3"
    },
    "language_info": {
      "codemirror_mode": {
        "name": "ipython",
        "version": 3
      },
      "file_extension": ".py",
      "mimetype": "text/x-python",
      "name": "python",
      "nbconvert_exporter": "python",
      "pygments_lexer": "ipython3",
      "version": "3.7.12"
    }
  },
  "nbformat": 4,
  "nbformat_minor": 0
}