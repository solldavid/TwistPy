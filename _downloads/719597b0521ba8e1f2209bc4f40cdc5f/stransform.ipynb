{
  "cells": [
    {
      "cell_type": "code",
      "execution_count": null,
      "metadata": {
        "collapsed": false
      },
      "outputs": [],
      "source": [
        "%matplotlib inline"
      ]
    },
    {
      "cell_type": "markdown",
      "metadata": {},
      "source": [
        "\n# S-transform\nThis example illustrates the use of TwistPy's S-transform functions\n(:func:`twistpy.utils.stransform` and :func:`twistpy.utils.istransform`) to compute a\ntime-frequency representation of a signal and perform some filtering on the time-frequency spectrum.\n"
      ]
    },
    {
      "cell_type": "code",
      "execution_count": null,
      "metadata": {
        "collapsed": false
      },
      "outputs": [],
      "source": [
        "import matplotlib.pyplot as plt\nimport numpy as np\nfrom scipy.fft import irfft\nfrom scipy.signal.windows import tukey\n\nfrom twistpy.utils import stransform, istransform"
      ]
    },
    {
      "cell_type": "markdown",
      "metadata": {},
      "source": [
        "Here, we generate a simple signal consisting of two superimposed sinusoids at 10 and 30 Hz.\n\n"
      ]
    },
    {
      "cell_type": "code",
      "execution_count": null,
      "metadata": {
        "collapsed": false
      },
      "outputs": [],
      "source": [
        "dt = 0.005  # Sampling interval (s)\ntmin = 0  # Start time of the signal (s)\ntmax = 1  # End time of the signal (s)\n\nt = np.arange(tmin, tmax, dt)  # Time axis\n\nf1 = 10  # Frequency of first sinusoid\nf2 = 30  # Frequency of second sinusoid\n\nu = np.sin(2 * np.pi * f1 * t) + 3 * np.sin(2 * np.pi * f2 * t)  # Generate signal\n\ntaper = tukey(len(t))  # Taper the signal to avoid edge artifacts\nu *= taper"
      ]
    },
    {
      "cell_type": "markdown",
      "metadata": {},
      "source": [
        "The S-transform can be obtained with different k-values as:\n\n"
      ]
    },
    {
      "cell_type": "code",
      "execution_count": null,
      "metadata": {
        "collapsed": false
      },
      "outputs": [],
      "source": [
        "u_stran_k1, f = stransform(u, k=1)  # Compute the S-transform with k=1\nu_stran_k3, _ = stransform(u, k=3)  # Compute the S-transform with k=3\nf_Hz = f / dt  # Convert frequency vector to Hz\n\nfigure, axes = plt.subplots(3, 1, sharex=True)\n# Plot the time domain signal\naxes[0].plot(t, u)\naxes[0].set_ylabel(\"Signal amplitude u(t)\")\naxes[0].set_title(\"Time domain signal\")\n\n# Plot the magnitude of the S-transform for k=1\naxes[1].imshow(\n    np.abs(u_stran_k1),\n    origin=\"lower\",\n    extent=[tmin, tmax, f_Hz[0], f_Hz[-1]],\n    aspect=\"auto\",\n)\naxes[1].set_ylabel(\"Frequency (Hz)\")\naxes[1].set_title(\"S-transform (k=1)\")\n\n# Plot the magnitude of the S-transform for k=2\naxes[2].imshow(\n    np.abs(u_stran_k3),\n    origin=\"lower\",\n    extent=[tmin, tmax, f_Hz[0], f_Hz[-1]],\n    aspect=\"auto\",\n)\naxes[2].set_xlabel(\"Time (s)\")\naxes[2].set_ylabel(\"Frequency (Hz)\")\naxes[2].set_title(\"S-transform (k=3)\")"
      ]
    },
    {
      "cell_type": "markdown",
      "metadata": {},
      "source": [
        "Note that increasing the value of *k* increases the frequency-resolution. However, this comes at the expense of a\nlower time-resolution. The inverse S-transform after Schimmel and Gallart (2005,\nhttps://doi.org/10.1109/TSP.2005.857065) can now be obtained as:\n\n"
      ]
    },
    {
      "cell_type": "code",
      "execution_count": null,
      "metadata": {
        "collapsed": false
      },
      "outputs": [],
      "source": [
        "u_ist_k1 = istransform(u_stran_k1, f)\nu_ist_k3 = istransform(u_stran_k3, f, k=3)\n\nplt.figure()\nplt.plot(t, u, \"k\", label=\"Original signal\")\nplt.plot(t, u_ist_k1, \"r--\", label=\"Inverse ST (k=1)\")\nplt.plot(t, u_ist_k3, \"g:\", label=\"Inverse ST (k=3)\")\nplt.legend()\nplt.xlabel(\"Time (s)\")\nplt.ylabel(\"Signal amplitude u(t)\")"
      ]
    },
    {
      "cell_type": "markdown",
      "metadata": {},
      "source": [
        "To investigate the effect of time-frequency filtering on the inverse transform,\nwe perform some filtering of the time-frequency decomposed\nsignal. Here, we try to isolate the 10 Hz signal between 0.4 and 0.6 seconds. We then evaluate the differences between\nthe inverse transform after Schimmel and Gallart and the conventional inverse S-transform.\n\n"
      ]
    },
    {
      "cell_type": "code",
      "execution_count": null,
      "metadata": {
        "collapsed": false
      },
      "outputs": [],
      "source": [
        "filter_mask_time = np.asarray(\n    [0.4, 0.6], dtype=\"float\"\n)  # Filter signal between 0.4 and 0.6 s\nfilter_mask_frequency = np.asarray(\n    [5, 15], dtype=\"float\"\n)  # Filter signal between 5 and 15 Hz\n\nfilter_mask_index = [\n    (filter_mask_time / dt).astype(\"int\"),\n    (filter_mask_frequency / (f_Hz[1] - f_Hz[0])).astype(\"int\"),\n]\nfilter_mask = np.zeros_like(u_stran_k1)\nfilter_mask[\n    filter_mask_index[1][0] : filter_mask_index[1][1],\n    filter_mask_index[0][0] : filter_mask_index[0][1],\n] = 1\n\nu_filt_schimmel = istransform(\n    u_stran_k1 * filter_mask, f, k=1\n)  # Inverse S-transform after Schimmel\nu_filt_conventional = irfft(\n    np.sum(u_stran_k1 * filter_mask, axis=-1)\n)  # Conventional inverse S-transform\n\nfig2, axes2 = plt.subplots(3, 1, sharex=True)\naxes2[0].imshow(\n    np.abs(u_stran_k1 * filter_mask),\n    origin=\"lower\",\n    extent=[tmin, tmax, f_Hz[0], f_Hz[-1]],\n    aspect=\"auto\",\n)\naxes2[0].set_ylabel(\"Frequency (Hz)\")\naxes2[0].set_title(\"Filtered S-transform (k=1)\")\n\naxes2[1].plot(t, u_filt_schimmel, \"k\")\naxes2[1].set_title(\"Inverse transform after Schimmel & Gallart (2005)\")\naxes2[1].set_ylabel(\"Signal amplitude u(t)\")\n\naxes2[2].plot(t, u_filt_conventional, \"k\")\naxes2[2].set_xlabel(\"Time (s)\")\naxes2[2].set_ylabel(\"Signal amplitude u(t)\")\naxes2[2].set_title(\"Conventional inverse S-transform\")\n\nplt.show()"
      ]
    },
    {
      "cell_type": "markdown",
      "metadata": {},
      "source": [
        "Note that the inverse transform after Schimmel & Gallart provides a better time-localization of the filtered signal\ncompared to the conventional inverse. However, it has to be noted that this inverse transform is only an approximation\nto the true inverse (the level of approximation is described in Simon, C., Ventosa, S., Schimmel, M., Heldring, A.,\nDa\u00f1obeitia, J. J., Gallart, J., & M\u00e0nuel, A. 2007. **The S-transform and its inverses: Side effects of discretizing\nand filtering**. *IEEE Transactions on Signal Processing*, **55** (10), 4928\u20134937.\nhttps://doi.org/10.1109/TSP.2007.897893). For filtering purposes, the inverse transform after Schimmel et al. is\nusually still the better choice.\n\n"
      ]
    }
  ],
  "metadata": {
    "kernelspec": {
      "display_name": "Python 3",
      "language": "python",
      "name": "python3"
    },
    "language_info": {
      "codemirror_mode": {
        "name": "ipython",
        "version": 3
      },
      "file_extension": ".py",
      "mimetype": "text/x-python",
      "name": "python",
      "nbconvert_exporter": "python",
      "pygments_lexer": "ipython3",
      "version": "3.7.12"
    }
  },
  "nbformat": 4,
  "nbformat_minor": 0
}