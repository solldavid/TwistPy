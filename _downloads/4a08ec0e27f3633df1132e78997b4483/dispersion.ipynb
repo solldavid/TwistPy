{
  "cells": [
    {
      "cell_type": "code",
      "execution_count": null,
      "metadata": {
        "collapsed": false
      },
      "outputs": [],
      "source": [
        "%matplotlib inline"
      ]
    },
    {
      "cell_type": "markdown",
      "metadata": {},
      "source": [
        "\n# Six-component dispersion analysis\nIn this tutorial, you will learn how to extract dispersion curves and frequency-dependent Rayleigh wave ellipticity\nangles from single-station six-component recordings of ambient noise.\n"
      ]
    },
    {
      "cell_type": "code",
      "execution_count": null,
      "metadata": {
        "collapsed": false
      },
      "outputs": [],
      "source": [
        "import numpy as np\nfrom obspy.core import read\n\nfrom twistpy.polarization import DispersionAnalysis\nfrom twistpy.polarization.machinelearning import SupportVectorMachine"
      ]
    },
    {
      "cell_type": "markdown",
      "metadata": {},
      "source": [
        "We start by reading in the data. The data corresponds to a recording of 2h40min of ambient noise recorded in the city\nof Munich with a BlueSeis rotational seismometer and a co-located seismometer. Both sensors were mounted on the same\nconcrete base plate. With TwistPy, dispersion curves are estimated by 6C polarization analysis. First, Rayleigh waves\nand Love waves are detected using a machine learning algorithm. In time windows, where a Love or Rayleigh wave is\ndetected, the phase velocity and ellipticity is estimated from the first eigenvector of the data covariance matrix.\nFor polarization analysis, we convert our data to dimensionless units by scaling the translational components with a\nscaling velocity (see other examples on 6C polarization analysis). After scaling, the translational and rotational\ncomponents should have comparable amplitudes. This makes the analysis more stable.\n\n"
      ]
    },
    {
      "cell_type": "code",
      "execution_count": null,
      "metadata": {
        "collapsed": false
      },
      "outputs": [],
      "source": [
        "data = read(\"../example_data/6C_urban_noise.mseed\")\nscaling_velocity = 800.0\nfor i, trace in enumerate(data):\n    if i < 3:\n        trace.differentiate()\n        trace.data /= scaling_velocity\n    else:\n        trace.data -= np.median(\n            trace.data\n        )  # Ensure that the rotational components have a median of 0\n    trace.taper(0.05)"
      ]
    },
    {
      "cell_type": "markdown",
      "metadata": {},
      "source": [
        "Now we train the machine learning model for the detection of Love and Rayleigh waves. We additionally train the model\nto be able to detect body waves because we want to avoid leakage of body waves into our Love and Rayleigh wave\ndispersion curves. We choose a velocity range that is typical for the near-surface in the frequency range we are\ninterested in.\n\n"
      ]
    },
    {
      "cell_type": "code",
      "execution_count": null,
      "metadata": {
        "collapsed": false
      },
      "outputs": [],
      "source": [
        "svm = SupportVectorMachine(name=\"dispersion_analysis2\")\nsvm.train(\n    wave_types=[\"R\", \"L\", \"P\", \"SV\", \"Noise\"],\n    scaling_velocity=scaling_velocity,\n    phi=(0, 360),\n    vp=(400, 3000),\n    vp_to_vs=(1.7, 2.4),\n    vr=(100, 3000),\n    vl=(100, 3000),\n    xi=(-90, 90),\n    theta=(0, 80),\n    C=100,\n    plot_confusion_matrix=False,\n)"
      ]
    },
    {
      "cell_type": "markdown",
      "metadata": {},
      "source": [
        "We now have everything we need to extract dispersion curves from our ambient noise data. We specify that the time\nwindow for the analysis should stretch over 2 dominant periods at each frequency of interest. Additionally, we specify\nthat neighbouring windows should overlap by half the window width in this case ('overlap': 0.5). We want to extract\nLove and Rayleigh wave dispersion curves in the frequency range between 1 and 20 Hz. The data is automatically\nfiltered to various frequency bands in the interval 1 to 20 Hz, each frequency band extends over the number of octaves\nspecified by the parameter 'octaves'. Here, we choose quarter octave frequency bands.\n\n"
      ]
    },
    {
      "cell_type": "code",
      "execution_count": null,
      "metadata": {
        "collapsed": false
      },
      "outputs": [],
      "source": [
        "window = {\"number_of_periods\": 3, \"overlap\": 0.5}\nda = DispersionAnalysis(\n    traN=data[1],\n    traE=data[0],\n    traZ=data[2],\n    rotN=data[4],\n    rotE=data[5],\n    rotZ=data[3],\n    window=window,\n    scaling_velocity=scaling_velocity,\n    verbose=True,\n    fmin=1.0,\n    fmax=20.0,\n    octaves=0.25,\n    svm=svm,\n)"
      ]
    },
    {
      "cell_type": "markdown",
      "metadata": {},
      "source": [
        "After running the analysis, we can save it to disk (e.g. da.save('dispersion_analysis.pkl')) or simply plot it using\nthe provided plot() method.\n\n"
      ]
    },
    {
      "cell_type": "code",
      "execution_count": null,
      "metadata": {
        "collapsed": false
      },
      "outputs": [],
      "source": [
        "da.plot()"
      ]
    },
    {
      "cell_type": "markdown",
      "metadata": {},
      "source": [
        "To plot the back-azimuth at a specific frequency, use the plot_baz() method:\n\n"
      ]
    },
    {
      "cell_type": "code",
      "execution_count": null,
      "metadata": {
        "collapsed": false
      },
      "outputs": [],
      "source": [
        "da.plot_baz(freq=14.0)"
      ]
    }
  ],
  "metadata": {
    "kernelspec": {
      "display_name": "Python 3",
      "language": "python",
      "name": "python3"
    },
    "language_info": {
      "codemirror_mode": {
        "name": "ipython",
        "version": 3
      },
      "file_extension": ".py",
      "mimetype": "text/x-python",
      "name": "python",
      "nbconvert_exporter": "python",
      "pygments_lexer": "ipython3",
      "version": "3.7.12"
    }
  },
  "nbformat": 4,
  "nbformat_minor": 0
}