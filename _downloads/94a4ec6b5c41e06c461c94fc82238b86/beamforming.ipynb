{
  "cells": [
    {
      "cell_type": "code",
      "execution_count": null,
      "metadata": {
        "collapsed": false
      },
      "outputs": [],
      "source": [
        "%matplotlib inline"
      ]
    },
    {
      "cell_type": "markdown",
      "metadata": {},
      "source": [
        "\n# Array Processing: Beamforming\nIn this tutorial, you will learn how to use TwistPy's Array processing tools for beamforming.\n"
      ]
    },
    {
      "cell_type": "code",
      "execution_count": null,
      "metadata": {
        "collapsed": false
      },
      "outputs": [],
      "source": [
        "import matplotlib.pyplot as plt\nimport numpy as np\nfrom obspy.core import UTCDateTime\n\nfrom twistpy.array_processing import BeamformingArray, plot_beam\nfrom twistpy.convenience import generate_synthetics, to_obspy_stream\n\nrng = np.random.default_rng(1)\n\n# sphinx_gallery_thumbnail_number = 4"
      ]
    },
    {
      "cell_type": "markdown",
      "metadata": {},
      "source": [
        "Instantiate an object of class BeamformingArray(), the basic interface that we use to perform array processing.\nWe pass a name to uniquely identify the array and the coordinates of the receivers. The coordinates should be defined\nin a left-handed coordinate system as North, East, Up. Additionally, we specify the index\nof a reference receiver, all phase delays inside the array are computed with respect to this receiver:\n\n"
      ]
    },
    {
      "cell_type": "code",
      "execution_count": null,
      "metadata": {
        "collapsed": false
      },
      "outputs": [],
      "source": [
        "# Define tetrahedral array coordinates\naperture = 5.0  # Array aperture in meters\ncenter_point = np.asarray(\n    [100, 100, 50]\n)  # Coordinates of the center point of the array (meters)\n# Array coordinates as (Nx3) array, with N being the number of receivers\ncoordinates = np.tile(center_point, (4, 1)) + aperture * np.array(\n    [[-1, 1, 1], [1, -1, 1], [1, 1, -1], [-1, -1, -1]]\n)\n\n# Instantiate BeamformingArray object (the fourth receiver (with index 3) is specified to be the reference receiver)\narray = BeamformingArray(name=\"My Array\", coordinates=coordinates, reference_receiver=3)"
      ]
    },
    {
      "cell_type": "markdown",
      "metadata": {},
      "source": [
        "In this example, we generate some synthetic data with a source located at the origin:\n\n"
      ]
    },
    {
      "cell_type": "code",
      "execution_count": null,
      "metadata": {
        "collapsed": false
      },
      "outputs": [],
      "source": [
        "source_coordinates = np.asarray([0, 0, 0])  # Source at the origin"
      ]
    },
    {
      "cell_type": "markdown",
      "metadata": {},
      "source": [
        "Plot the source-receiver configuration:\n\n"
      ]
    },
    {
      "cell_type": "code",
      "execution_count": null,
      "metadata": {
        "collapsed": false
      },
      "outputs": [],
      "source": [
        "fig = plt.figure()\nax = fig.add_subplot(projection=\"3d\")\nax.scatter(\n    array.coordinates[:, 1],\n    array.coordinates[:, 0],\n    array.coordinates[:, 2],\n    marker=\"v\",\n)\nax.scatter(\n    array.coordinates[array.reference_receiver, 1],\n    array.coordinates[array.reference_receiver, 0],\n    array.coordinates[array.reference_receiver, 2],\n    marker=\"v\",\n)\nax.scatter(\n    source_coordinates[1], source_coordinates[0], source_coordinates[2], marker=\"*\"\n)\nax.legend([\"Receiver\", \"Reference receiver\", \"Source\"])\nax.set_xlabel(\"E\")\nax.set_ylabel(\"N\")\nax.set_zlabel(\"Z\")\nax.set_box_aspect((np.ptp(ax.get_xlim()), np.ptp(ax.get_ylim()), np.ptp(ax.get_zlim())))"
      ]
    },
    {
      "cell_type": "markdown",
      "metadata": {},
      "source": [
        "Specify medium and data parameters for the computation of synthetics:\n\n"
      ]
    },
    {
      "cell_type": "code",
      "execution_count": null,
      "metadata": {
        "collapsed": false
      },
      "outputs": [],
      "source": [
        "velocity = 6000  # Set medium velocity to 6000 m/s\ndt = 2.5e-4  # sampling rate of seismograms (s)\ntmax = 0.1  # total simulation time (s)\nwavelet_center_frequency = 100  # wavelet center frequency in Hz\nt = np.arange(0, tmax, dt)\nnt = int(len(t))  # Number of samples\n\n# Generate synthetic data using a Ricker wavelet\ndata = generate_synthetics(\n    source_coordinates,\n    array,\n    t,\n    velocity=velocity,\n    center_frequency=wavelet_center_frequency,\n)  # Use helper function to generate synthetics\ndata += rng.normal(scale=1e-2, size=data.shape)  # Add noise for numerical stability\n\n# Plot data\nplt.figure()\nplt.plot(t, data.T)\nplt.legend([\"Receiver 0\", \"Receiver 1\", \"Receiver 2\", \"Receiver 3\"])"
      ]
    },
    {
      "cell_type": "markdown",
      "metadata": {},
      "source": [
        "We now need to feed the data to our BeamformingArray object. BeamformingArray objects only accept data in ObsPy\nStream() format.\nWe therefore convert the synthetic data to an ObsPy Stream:\n\n"
      ]
    },
    {
      "cell_type": "code",
      "execution_count": null,
      "metadata": {
        "collapsed": false
      },
      "outputs": [],
      "source": [
        "# Convert data to Obspy Stream format\nstart_time = UTCDateTime(2022, 2, 1, 10, 00, 00, 0)  # Recording time of first sample\ndata_st = to_obspy_stream(\n    data, start_time, dt\n)  # Use helper function to convert data to ObsPy Stream()\nprint(data_st)\n\n# Add data to array object\narray.add_data(\n    data_st\n)  # add_data() will automatically check that the data is in  Stream() format and that the\n# number of traces in the data agrees with the number of receivers"
      ]
    },
    {
      "cell_type": "markdown",
      "metadata": {},
      "source": [
        "Specify parameters for array processing:\nFrequency band over which to perform frequency-domain beamforming\n\n"
      ]
    },
    {
      "cell_type": "code",
      "execution_count": null,
      "metadata": {
        "collapsed": false
      },
      "outputs": [],
      "source": [
        "freq_band = (90.0, 110.0)\ninclination = (\n    0,\n    90,\n    1,\n)  # Search space for the inclination in degrees (min_value, max_value, increment)\nazimuth = (\n    0,\n    360,\n    1,\n)  # Search space for the back-azimuth in degrees (min_value, max_value, increment)\nvelocity = 6000.0  # Intra-array velocity in m/s, either a float or a tuple as for azimuth and inclination if velocity\n# is unknown and part of the search\nnumber_of_sources = 1  # Specify the number of interfering sources that will be estimated in the time window\n# (only relevant for MUSIC)"
      ]
    },
    {
      "cell_type": "markdown",
      "metadata": {},
      "source": [
        "Now we have everything we need to compute the steering vectors:\n\n"
      ]
    },
    {
      "cell_type": "code",
      "execution_count": null,
      "metadata": {
        "collapsed": false
      },
      "outputs": [],
      "source": [
        "array.compute_steering_vectors(\n    frequency=np.mean(freq_band),\n    inclination=inclination,\n    azimuth=azimuth,\n    intra_array_velocity=velocity,\n)"
      ]
    },
    {
      "cell_type": "markdown",
      "metadata": {},
      "source": [
        "Let's now perform beamforming at a specific time. Currently, three different beamforming methods are implemented:\n'MUSIC', 'MVDR' (minimum variance distortionless response or Capon Beamformer), and 'BARTLETT'\n(conventional beamforming). To compute the beam power at time=event_time, we do:\n\n"
      ]
    },
    {
      "cell_type": "code",
      "execution_count": null,
      "metadata": {
        "collapsed": false
      },
      "outputs": [],
      "source": [
        "event_time = (\n    start_time + 0.012\n)  # Pick time, where the start of the analysis window is placed\n# For a time dependent analysis, slide event_time down the trace\nP_MUSIC = array.beamforming(\n    method=\"MUSIC\",\n    event_time=event_time,\n    frequency_band=freq_band,\n    window=5,\n    number_of_sources=number_of_sources,\n)\nP_MVDR = array.beamforming(\n    method=\"MVDR\", event_time=event_time, frequency_band=freq_band, window=5\n)\nP_BARTLETT = array.beamforming(\n    method=\"BARTLETT\", event_time=event_time, frequency_band=freq_band, window=5\n)\n# Window specifies the width of the time window, here corresponding to 5 times the dominant period in the specified\n# frequency band\n# If you want to perform a time-depenent analysis you would slide the window down the data by adjusting event_time"
      ]
    },
    {
      "cell_type": "markdown",
      "metadata": {},
      "source": [
        "Plot the results. The azimuth is defined clock-wise from the North axis. The inclination is measured from the vertical\naxis downward. The extracted azimuth and inclination point into the direction of propagation of the wave (away from\nthe source).\n\n"
      ]
    },
    {
      "cell_type": "code",
      "execution_count": null,
      "metadata": {
        "collapsed": false
      },
      "outputs": [],
      "source": [
        "# Compute the true propagation direction at the center point of the array as a reference to evaluate beamforming\n# performance\npropagation_direction = center_point - source_coordinates\nprint(np.linalg.norm(propagation_direction))\npropagation_direction = propagation_direction / np.linalg.norm(propagation_direction)\n\n# negative to go from counter-clockwise to clockwise definition of angles\nazimuth_true = np.arctan2(propagation_direction[1], propagation_direction[0])\nif azimuth_true < 0:\n    azimuth_true += 2 * np.pi\ninclination_true = np.arctan(\n    np.linalg.norm(propagation_direction[:-1]) / propagation_direction[2]\n)\n\n# Plot beamforming results obtained with the 3 different methods\nfig_bf, ax_bf = plt.subplots(3, 1, sharex=True, sharey=True, figsize=(10, 12))\nax_bf[0].imshow(\n    P_MUSIC,\n    extent=[azimuth[0], azimuth[1], inclination[0], inclination[1]],\n    origin=\"lower\",\n)\nax_bf[0].plot(np.degrees(azimuth_true), np.degrees(inclination_true), \"r*\")\nax_bf[0].set_xlabel(\"Azimuth (degrees)\")\nax_bf[0].set_ylabel(\"Inclination (degrees)\")\nax_bf[0].legend([\"True\"], loc=\"center left\", bbox_to_anchor=(1, 0.5))\nax_bf[0].set_title(\"MUSIC\")\n\nax_bf[1].imshow(\n    P_MVDR,\n    extent=[azimuth[0], azimuth[1], inclination[0], inclination[1]],\n    origin=\"lower\",\n)\nax_bf[1].plot(np.degrees(azimuth_true), np.degrees(inclination_true), \"r*\")\nax_bf[1].set_xlabel(\"Azimuth (degrees)\")\nax_bf[1].set_ylabel(\"Inclination (degrees)\")\nax_bf[1].legend([\"True\"], loc=\"center left\", bbox_to_anchor=(1, 0.5))\nax_bf[1].set_title(\"MVDR (Capon)\")\n\nax_bf[2].imshow(\n    P_BARTLETT,\n    extent=[azimuth[0], azimuth[1], inclination[0], inclination[1]],\n    origin=\"lower\",\n)\nax_bf[2].plot(np.degrees(azimuth_true), np.degrees(inclination_true), \"r*\")\nax_bf[2].set_xlabel(\"Azimuth (degrees)\")\nax_bf[2].set_ylabel(\"Inclination (degrees)\")\nax_bf[2].legend([\"True\"], loc=\"center left\", bbox_to_anchor=(1, 0.5))\nax_bf[2].set_title(\"BARTLETT\")"
      ]
    },
    {
      "cell_type": "markdown",
      "metadata": {},
      "source": [
        "For a polar plot with the azimuth plotted as the polar angle and the inclination as the radius:\n\n"
      ]
    },
    {
      "cell_type": "code",
      "execution_count": null,
      "metadata": {
        "collapsed": false
      },
      "outputs": [],
      "source": [
        "azi_plot = np.arange(azimuth[0], azimuth[1] + azimuth[2], azimuth[2])\ninc_plot = np.arange(inclination[0], inclination[1] + inclination[2], inclination[2])\n\nazi_plot, inc_plot = np.meshgrid(np.radians(azi_plot), inc_plot)\n\nfig_bf_polar, ax_bf_polar = plt.subplots(\n    1, 3, sharex=True, sharey=True, figsize=(15, 6), subplot_kw=dict(polar=True)\n)\nfor ax_p in ax_bf_polar:\n    ax_p.set_theta_direction(-1)\n    ax_p.set_theta_offset(np.pi / 2.0)\nax_bf_polar[0].pcolormesh(azi_plot, inc_plot, P_MUSIC.squeeze())\nax_bf_polar[0].set_title(\"MUSIC\")\n\nax_bf_polar[1].pcolormesh(azi_plot, inc_plot, P_MVDR.squeeze())\nax_bf_polar[1].set_title(\"MVDR (Capon)\")\n\nax_bf_polar[2].pcolormesh(azi_plot, inc_plot, P_BARTLETT.squeeze())\nax_bf_polar[2].set_title(\"BARTLETT\")"
      ]
    },
    {
      "cell_type": "markdown",
      "metadata": {},
      "source": [
        "To visualize the beam power in 3D, we use a simple back-projection of the beam assuming straight rays:\n\n"
      ]
    },
    {
      "cell_type": "code",
      "execution_count": null,
      "metadata": {
        "collapsed": false
      },
      "outputs": [],
      "source": [
        "# Plot the beam in 3D domain\nnx, ny, nz = (\n    111,\n    111,\n    61,\n)  # number of points in x-, y- and z- direction where beam is plotted\nxmin, xmax = 0, 110  # min and max locations in x-direction where beam will be plotted\nymin, ymax = 0, 110\nzmin, zmax = 0, 60\nx = np.linspace(xmin, xmax, nx)\ny = np.linspace(ymin, ymax, ny)\nz = np.linspace(zmin, zmax, nx)\n\n(\n    X,\n    Y,\n    Z,\n) = np.meshgrid(x, y, z)\ngrid = np.asarray([X.flatten(), Y.flatten(), Z.flatten()]).T\nbeam_origin = center_point  # location where the origin of the beam is located\n\n# Plot the beam intensity for the four different methods\nfig_beam, ax_beam = plt.subplots(\n    3, 1, figsize=(10, 15), subplot_kw={\"projection\": \"3d\"}\n)\n\nplot_beam(\n    grid, beam_origin, P_MUSIC, inclination, azimuth, ax=ax_beam[0]\n)  # Helper function to plot the beam power\nax_beam[0].scatter(\n    array.coordinates[:, 1],\n    array.coordinates[:, 0],\n    array.coordinates[:, 2],\n    marker=\"v\",\n)\nax_beam[0].scatter(\n    array.coordinates[array.reference_receiver, 1],\n    array.coordinates[array.reference_receiver, 0],\n    array.coordinates[array.reference_receiver, 2],\n    marker=\"v\",\n)\nax_beam[0].scatter(\n    source_coordinates[1], source_coordinates[0], source_coordinates[2], marker=\"*\"\n)\nax_beam[0].set_xlabel(\"E\")\nax_beam[0].set_ylabel(\"N\")\nax_beam[0].set_zlabel(\"Z\")\nax_beam[0].set_box_aspect(\n    (np.ptp(ax.get_xlim()), np.ptp(ax.get_ylim()), np.ptp(ax.get_zlim()))\n)\nax_beam[0].set_title(\"MUSIC\")\n\nplot_beam(grid, beam_origin, P_MVDR, inclination, azimuth, ax=ax_beam[1], clip=0.05)\nax_beam[1].scatter(\n    array.coordinates[:, 1],\n    array.coordinates[:, 0],\n    array.coordinates[:, 2],\n    marker=\"v\",\n)\nax_beam[1].scatter(\n    array.coordinates[array.reference_receiver, 1],\n    array.coordinates[array.reference_receiver, 0],\n    array.coordinates[array.reference_receiver, 2],\n    marker=\"v\",\n)\nax_beam[1].scatter(\n    source_coordinates[1], source_coordinates[0], source_coordinates[2], marker=\"*\"\n)\nax_beam[1].set_xlabel(\"E\")\nax_beam[1].set_ylabel(\"N\")\nax_beam[1].set_zlabel(\"Z\")\nax_beam[1].set_box_aspect(\n    (np.ptp(ax.get_xlim()), np.ptp(ax.get_ylim()), np.ptp(ax.get_zlim()))\n)\nax_beam[1].set_title(\"MVDR (Capon)\")\n\nplot_beam(grid, beam_origin, P_BARTLETT, inclination, azimuth, ax=ax_beam[2], clip=0.8)\nax_beam[2].scatter(\n    array.coordinates[:, 1],\n    array.coordinates[:, 0],\n    array.coordinates[:, 2],\n    marker=\"v\",\n)\nax_beam[2].scatter(\n    array.coordinates[array.reference_receiver, 1],\n    array.coordinates[array.reference_receiver, 0],\n    array.coordinates[array.reference_receiver, 2],\n    marker=\"v\",\n)\nax_beam[2].scatter(\n    source_coordinates[1], source_coordinates[0], source_coordinates[2], marker=\"*\"\n)\nax_beam[2].set_xlabel(\"E\")\nax_beam[2].set_ylabel(\"N\")\nax_beam[2].set_zlabel(\"Z\")\nax_beam[2].set_box_aspect(\n    (np.ptp(ax.get_xlim()), np.ptp(ax.get_ylim()), np.ptp(ax.get_zlim()))\n)\nax_beam[2].set_title(\"BARTLETT\")\nplt.show()"
      ]
    },
    {
      "cell_type": "markdown",
      "metadata": {},
      "source": [
        "If multiple arrays are available, the beamforming results can be summed to provide a location.\n\n"
      ]
    }
  ],
  "metadata": {
    "kernelspec": {
      "display_name": "Python 3",
      "language": "python",
      "name": "python3"
    },
    "language_info": {
      "codemirror_mode": {
        "name": "ipython",
        "version": 3
      },
      "file_extension": ".py",
      "mimetype": "text/x-python",
      "name": "python",
      "nbconvert_exporter": "python",
      "pygments_lexer": "ipython3",
      "version": "3.7.12"
    }
  },
  "nbformat": 4,
  "nbformat_minor": 0
}