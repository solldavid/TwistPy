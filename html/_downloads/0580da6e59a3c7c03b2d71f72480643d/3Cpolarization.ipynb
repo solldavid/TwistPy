{
  "cells": [
    {
      "cell_type": "code",
      "execution_count": null,
      "metadata": {
        "collapsed": false
      },
      "outputs": [],
      "source": [
        "%matplotlib inline"
      ]
    },
    {
      "cell_type": "markdown",
      "metadata": {},
      "source": [
        "\n# 3-C Polarization analysis and filtering in the time domain\nIn this example, you will learn how to use TwistPy to perform a three-component polarization analysis in the\ntime domain.  You will learn how to estimate polarization attributes such as the ellipticity,\nthe degree of polarization, and the directionality of the particle motion as a function of time and how\nto use those attributes to filter the time series. The analysis is performed on the complex analytic signal\n"
      ]
    },
    {
      "cell_type": "code",
      "execution_count": null,
      "metadata": {
        "collapsed": false
      },
      "outputs": [],
      "source": [
        "import matplotlib.pyplot as plt\nimport numpy as np\nfrom obspy.core import Trace, Stream\nfrom scipy.signal import hilbert, convolve\n\nfrom twistpy.convenience import ricker\nfrom twistpy.polarization import TimeDomainAnalysis3C, PolarizationModel3C\nfrom twistpy.utils import load_analysis\n\nrng = np.random.default_rng(1)\n\n# sphinx_gallery_thumbnail_number = 3"
      ]
    },
    {
      "cell_type": "markdown",
      "metadata": {},
      "source": [
        "We start by generating a very simple synthetic data set for illustration purposes. The data will contain isolated wave\narrivals for a P-wave, an SV-wave, an SH wave, a Love-wave, and a Rayleigh wave. To generate the data, we make use\nof the pure state polarization models that are implemented in the class 'twistpy.polarization.PolarizationModel3C'.\n\n"
      ]
    },
    {
      "cell_type": "code",
      "execution_count": null,
      "metadata": {
        "collapsed": false
      },
      "outputs": [],
      "source": [
        "# Generate an empty time series for each wave\nN = 1000  # Number of samples in the time series\nsignal1 = np.zeros((N, 3))  # Each signal has three components\nsignal2 = np.zeros((N, 3))\nsignal3 = np.zeros((N, 3))\nsignal4 = np.zeros((N, 3))\nsignal5 = np.zeros((N, 3))\n\ndt = 1.0 / 1000.0  # sampling interval\nt = np.arange(0, signal1.shape[0]) * dt  # time axis\nwavelet, t_wav, wcenter = ricker(\n    t, 30.0\n)  # generate a Ricker wavelet with 30 Hz center frequency\nwavelet = wavelet[wcenter - int(len(t) / 2) : wcenter + int(len(t) / 2)]\nwavelet_hilb = np.imag(\n    hilbert(wavelet)\n)  # Here we make use of the Hilbert transform to generate a Ricker wavelet\n# with a 90 degree phase shift. This is to account for the fact that, for Rayleigh waves, the horizontal components are\n# phase-shifted by 90 degrees with respect to the other components."
      ]
    },
    {
      "cell_type": "markdown",
      "metadata": {},
      "source": [
        "We now generate the relative amplitudes with which the waves are recorded on the three-component seismometer. All\nwaves will arrive with a propagation azimuth of 30 degrees (ecxept for the P-wave, which we specify to have an azimuth\nof 60 degrees), the body waves will have an inclination angle of 20 degrees. The\nlocal P-wave and S-wave velocities at the recording station are assumed to be 1000 m/s and 400 m/s, respectively. The\nRayleigh wave ellipticity angle is set to be -45 degrees resulting in a circular polarization.\n\n"
      ]
    },
    {
      "cell_type": "code",
      "execution_count": null,
      "metadata": {
        "collapsed": false
      },
      "outputs": [],
      "source": [
        "wave1 = PolarizationModel3C(\n    wave_type=\"P\", theta=20.0, phi=60.0, vp=1000.0, vs=400.0, free_surface=True\n)\n# Generate a P-wave polarization model for\n# a P-wave recorded at the free surface with an inclination of 20 degrees, an azimuth of 60 degrees. The local P- and\n# S-wave velocities are 1000 m/s and 400 m/s\nwave2 = PolarizationModel3C(\n    wave_type=\"SV\", theta=20.0, phi=30.0, vp=1000.0, vs=400.0, free_surface=True\n)  # Generate an SV-wave polarization model\nwave3 = PolarizationModel3C(wave_type=\"SH\", theta=20.0, phi=30.0, free_surface=True)\n# Generate an SH-wave polarization model\nwave4 = PolarizationModel3C(\n    wave_type=\"L\", phi=30.0\n)  # Generate a Love-wave polarization model\nwave5 = PolarizationModel3C(\n    wave_type=\"R\", phi=30.0, xi=-45.0\n)  # Generate a Rayleigh-wave polarization model with a\n# Rayleigh wave ellipticity angle of -45 degrees."
      ]
    },
    {
      "cell_type": "markdown",
      "metadata": {},
      "source": [
        "Now we populate our signal with the computed amplitudes by setting a spike with the respective amplitude onto the\ndifferent locations of the time axis. Then we convolve the data with the Ricker wavelet to generate our synthetic\ntest seismograms.\n\n"
      ]
    },
    {
      "cell_type": "code",
      "execution_count": null,
      "metadata": {
        "collapsed": false
      },
      "outputs": [],
      "source": [
        "signal1[100, :] = wave1.polarization.real.T\nsignal2[300, :] = wave2.polarization.real.T\nsignal3[500, :] = wave3.polarization.real.T\nsignal4[700, :] = wave4.polarization.real.T\nsignal5[900, 2:] = np.real(wave5.polarization[2:].T)\nsignal5[900, 0:2] = np.imag(wave5.polarization[0:2].T)\n\nfor j in range(0, signal1.shape[1]):\n    signal1[:, j] = convolve(signal1[:, j], wavelet, mode=\"same\")\n    signal2[:, j] = convolve(signal2[:, j], wavelet, mode=\"same\")\n    signal3[:, j] = convolve(signal3[:, j], wavelet, mode=\"same\")\n    signal4[:, j] = convolve(signal4[:, j], wavelet, mode=\"same\")\n    if (\n        j == 0 or j == 1\n    ):  # Special case for horizontal translational components of the Rayleigh wave\n        signal5[:, j] = convolve(signal5[:, j], wavelet_hilb, mode=\"same\")\n    else:\n        signal5[:, j] = convolve(signal5[:, j], wavelet, mode=\"same\")\n\nsignal = signal1 + signal2 + signal3 + signal4 + signal5  # sum all signals together\n\n# We add some random noise to the signal\nnoise = rng.random((signal.shape))\nsignal += 0.1 * noise\n\n# Plot the data\nplt.figure(figsize=(10, 5))\nplt.plot(t, signal[:, 0], \"k:\", label=\"N\")\nplt.plot(t, signal[:, 1], \"k--\", label=\"E\")\nplt.plot(t, signal[:, 2], \"k\", label=\"Z\")\nplt.text((100 - 100) * dt, 0.7, \"P-wave\")\nplt.text((300 - 100) * dt, 0.7, \"SV-wave\")\nplt.text((500 - 100) * dt, 0.7, \"SH-wave\")\nplt.text((700 - 100) * dt, 0.7, \"Love-wave\")\nplt.text((900 - 100) * dt, 0.7, \"Rayleigh-wave\")\nplt.legend(loc=\"center left\", bbox_to_anchor=(1, 0.5))\nplt.xlabel(\"Time (s)\")"
      ]
    },
    {
      "cell_type": "markdown",
      "metadata": {},
      "source": [
        "To make the synthetics accessible to TwistPy, we convert them to an Obspy Stream object.\n\n"
      ]
    },
    {
      "cell_type": "code",
      "execution_count": null,
      "metadata": {
        "collapsed": false
      },
      "outputs": [],
      "source": [
        "data = Stream()\nfor n in range(signal.shape[1]):\n    trace = Trace(\n        data=signal[:, n],\n        header={\"delta\": t[1] - t[0], \"npts\": int(signal.shape[0]), \"starttime\": 0.0},\n    )\n    data += trace"
      ]
    },
    {
      "cell_type": "markdown",
      "metadata": {},
      "source": [
        "To perform the polarization analysis, we first specify the parameters of the time window that we want to use. Here,\nwe choose a window that extends over 20 samples in time (20 milliseconds). Overlap, specifies the percentage of\noverlap of neighbouring windows, as the window is slided down the signal. Here, we specify an overlap of 50 Percent.\n\n"
      ]
    },
    {
      "cell_type": "code",
      "execution_count": null,
      "metadata": {
        "collapsed": false
      },
      "outputs": [],
      "source": [
        "window = {\"window_length_seconds\": 20.0 * dt, \"overlap\": 0.8}"
      ]
    },
    {
      "cell_type": "markdown",
      "metadata": {},
      "source": [
        "To run the analysis, we use:\n\n"
      ]
    },
    {
      "cell_type": "code",
      "execution_count": null,
      "metadata": {
        "collapsed": false
      },
      "outputs": [],
      "source": [
        "analysis = TimeDomainAnalysis3C(\n    N=data[0], E=data[1], Z=data[2], window=window, timeaxis=\"rel\"\n)\nanalysis.polarization_analysis()"
      ]
    },
    {
      "cell_type": "markdown",
      "metadata": {},
      "source": [
        "And to plot the result:\n\n"
      ]
    },
    {
      "cell_type": "code",
      "execution_count": null,
      "metadata": {
        "collapsed": false
      },
      "outputs": [],
      "source": [
        "analysis.plot(show=False)"
      ]
    },
    {
      "cell_type": "markdown",
      "metadata": {},
      "source": [
        "We can now use the computed polarization attributes to devise a polarization filter.\nDepending on the number of samples in the seismograms, the computation of the polarization attributes can become quite\nexpensive. If you do not want to recompute the polarization attributes, everytime you try a new filter, consider\nsaving them to disk with:\n\n"
      ]
    },
    {
      "cell_type": "code",
      "execution_count": null,
      "metadata": {
        "collapsed": false
      },
      "outputs": [],
      "source": [
        "analysis.save(\"my_analysis.pkl\")"
      ]
    },
    {
      "cell_type": "markdown",
      "metadata": {},
      "source": [
        "To reload your analysis from the disk, use:\n\n"
      ]
    },
    {
      "cell_type": "code",
      "execution_count": null,
      "metadata": {
        "collapsed": false
      },
      "outputs": [],
      "source": [
        "analysis = load_analysis(\"my_analysis.pkl\")"
      ]
    },
    {
      "cell_type": "markdown",
      "metadata": {},
      "source": [
        "Once the polarization attributes are computed, you can access them as c lass attributes. The available attributes are:\n'dop' (degree of polarization), 'elli' (Ellipticity), 'inc1' (Inclination of the major semi-axis of the polarization\nellipse), 'inc2' (Inclination of the minor semi-axis), 'azi1' (Azimuth of the major semi-axis), and 'azi2' (Azimuth of\nthe minor semi-axis). So, for example,  if you want to access the ellipticity, you would do:\n\n"
      ]
    },
    {
      "cell_type": "code",
      "execution_count": null,
      "metadata": {
        "collapsed": false
      },
      "outputs": [],
      "source": [
        "elli = analysis.elli"
      ]
    },
    {
      "cell_type": "markdown",
      "metadata": {},
      "source": [
        "The corresponding time axis is:\n\n"
      ]
    },
    {
      "cell_type": "code",
      "execution_count": null,
      "metadata": {
        "collapsed": false
      },
      "outputs": [],
      "source": [
        "time = analysis.t_windows"
      ]
    },
    {
      "cell_type": "markdown",
      "metadata": {},
      "source": [
        "Now, let us devise a simple polarization filter. First, we need to ensure that we compute polarization attributes at\neach sample in the time series. Above we have used a sliding time window with 80% overlap between adjacent windows.\nFor polarization filtering, we need to ensure that we only move the sliding time window by one sample. To do so\nwe recompute the analysis above but specify that adjacent time windows should fully overlap (except for the 1 sample\nthat the window is moved):\n\n"
      ]
    },
    {
      "cell_type": "code",
      "execution_count": null,
      "metadata": {
        "collapsed": false
      },
      "outputs": [],
      "source": [
        "window = {\"window_length_seconds\": 20.0 * dt, \"overlap\": 1.0}\nanalysis = TimeDomainAnalysis3C(\n    N=data[0], E=data[1], Z=data[2], window=window, timeaxis=\"rel\"\n)\nanalysis.plot(show=False)"
      ]
    },
    {
      "cell_type": "markdown",
      "metadata": {},
      "source": [
        "Now we can use the filter() method for polarization filtering.  For example, we can\ndevise a filter that will only keep the parts of the signal that are rectilinearly polarized (i.e., low ellipticity\nbelow 0.2), show a high degree of polarization (larger than 0.7), and that have a predominantly vertical\npolarization (inclination angle of the major semi-axis smaller than 40). The inclination is measured from the vertical\naxis downward, meaning that a wave at completely vertical incidence has an inclination of 0 degrees.\n\n"
      ]
    },
    {
      "cell_type": "code",
      "execution_count": null,
      "metadata": {
        "collapsed": false
      },
      "outputs": [],
      "source": [
        "data_filtered = analysis.filter(\n    plot_filtered_attributes=True, elli=[0.0, 0.2], dop=[0.7, 1], inc1=[0, 40]\n)"
      ]
    },
    {
      "cell_type": "markdown",
      "metadata": {},
      "source": [
        "Similarly, we could devise a filter that only retains the elliptically polarized parts of the signal (e.g., surface\nwaves).\n\n"
      ]
    },
    {
      "cell_type": "code",
      "execution_count": null,
      "metadata": {
        "collapsed": false
      },
      "outputs": [],
      "source": [
        "data_filtered_rayleigh = analysis.filter(\n    elli=[0.7, 1.0], dop=[0.7, 1], plot_filtered_attributes=True\n)"
      ]
    },
    {
      "cell_type": "markdown",
      "metadata": {},
      "source": [
        "To filter out parts of the signal that exhibit particle motion along a specific direction (e.g., an azimuth around 60\ndegrees), we could use:\n\n"
      ]
    },
    {
      "cell_type": "code",
      "execution_count": null,
      "metadata": {
        "collapsed": false
      },
      "outputs": [],
      "source": [
        "data_filtered_60degrees_azimuth = analysis.filter(\n    azi1=[55, 65], dop=[0.7, 1], plot_filtered_attributes=True\n)\n\nplt.show()"
      ]
    }
  ],
  "metadata": {
    "kernelspec": {
      "display_name": "Python 3",
      "language": "python",
      "name": "python3"
    },
    "language_info": {
      "codemirror_mode": {
        "name": "ipython",
        "version": 3
      },
      "file_extension": ".py",
      "mimetype": "text/x-python",
      "name": "python",
      "nbconvert_exporter": "python",
      "pygments_lexer": "ipython3",
      "version": "3.7.12"
    }
  },
  "nbformat": 4,
  "nbformat_minor": 0
}